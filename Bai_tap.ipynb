{
 "cells": [
  {
   "cell_type": "markdown",
   "id": "67a86fa9",
   "metadata": {},
   "source": [
    "# Đọc file excel, merge các cột vào 1 bảng chung"
   ]
  },
  {
   "cell_type": "code",
   "execution_count": 45,
   "id": "8ff5c594",
   "metadata": {},
   "outputs": [],
   "source": [
    "# Thành viên: \n",
    "#Nguyễn Mạnh Hưng - 21139024\n",
    "#Ngô Quốc Huy - 21139020\n",
    "#Bùi Kha Lin - 21139030\n",
    "#Nguyễn Minh Tiến Đạt - 21139075\n",
    "#Nguyễn Huy Quý -21139048\n",
    "#Lê Minh Quang - 21139045"
   ]
  },
  {
   "cell_type": "code",
   "execution_count": 23,
   "id": "65b514f6",
   "metadata": {},
   "outputs": [
    {
     "ename": "FileNotFoundError",
     "evalue": "[Errno 2] No such file or directory: 'CuoiKy.xlsm'",
     "output_type": "error",
     "traceback": [
      "\u001b[1;31m---------------------------------------------------------------------------\u001b[0m",
      "\u001b[1;31mFileNotFoundError\u001b[0m                         Traceback (most recent call last)",
      "\u001b[1;32m~\\AppData\\Local\\Temp\\ipykernel_7972\\1460053080.py\u001b[0m in \u001b[0;36m<module>\u001b[1;34m\u001b[0m\n\u001b[0;32m      2\u001b[0m \u001b[1;32mimport\u001b[0m \u001b[0mmatplotlib\u001b[0m\u001b[1;33m.\u001b[0m\u001b[0mpyplot\u001b[0m \u001b[1;32mas\u001b[0m \u001b[0mplt\u001b[0m\u001b[1;33m\u001b[0m\u001b[1;33m\u001b[0m\u001b[0m\n\u001b[0;32m      3\u001b[0m \u001b[1;32mimport\u001b[0m \u001b[0mpandas\u001b[0m \u001b[1;32mas\u001b[0m \u001b[0mpd\u001b[0m\u001b[1;33m\u001b[0m\u001b[1;33m\u001b[0m\u001b[0m\n\u001b[1;32m----> 4\u001b[1;33m \u001b[0mdata\u001b[0m \u001b[1;33m=\u001b[0m \u001b[0mpd\u001b[0m\u001b[1;33m.\u001b[0m\u001b[0mread_excel\u001b[0m\u001b[1;33m(\u001b[0m\u001b[1;34m'CuoiKy.xlsm'\u001b[0m\u001b[1;33m)\u001b[0m\u001b[1;33m\u001b[0m\u001b[1;33m\u001b[0m\u001b[0m\n\u001b[0m\u001b[0;32m      5\u001b[0m \u001b[0mDataMaster\u001b[0m \u001b[1;33m=\u001b[0m \u001b[0mpd\u001b[0m\u001b[1;33m.\u001b[0m\u001b[0mread_excel\u001b[0m\u001b[1;33m(\u001b[0m\u001b[1;34m'CuoiKy.xlsm'\u001b[0m\u001b[1;33m,\u001b[0m \u001b[0msheet_name\u001b[0m \u001b[1;33m=\u001b[0m \u001b[1;34m'Data_Master'\u001b[0m\u001b[1;33m)\u001b[0m\u001b[1;33m\u001b[0m\u001b[1;33m\u001b[0m\u001b[0m\n\u001b[0;32m      6\u001b[0m \u001b[0mCustomerMaster\u001b[0m \u001b[1;33m=\u001b[0m \u001b[0mpd\u001b[0m\u001b[1;33m.\u001b[0m\u001b[0mread_excel\u001b[0m\u001b[1;33m(\u001b[0m\u001b[1;34m'CuoiKy.xlsm'\u001b[0m\u001b[1;33m,\u001b[0m \u001b[0msheet_name\u001b[0m \u001b[1;33m=\u001b[0m \u001b[1;34m'Customer_Master'\u001b[0m\u001b[1;33m)\u001b[0m\u001b[1;33m\u001b[0m\u001b[1;33m\u001b[0m\u001b[0m\n",
      "\u001b[1;32m~\\anaconda3\\lib\\site-packages\\pandas\\util\\_decorators.py\u001b[0m in \u001b[0;36mwrapper\u001b[1;34m(*args, **kwargs)\u001b[0m\n\u001b[0;32m    309\u001b[0m                     \u001b[0mstacklevel\u001b[0m\u001b[1;33m=\u001b[0m\u001b[0mstacklevel\u001b[0m\u001b[1;33m,\u001b[0m\u001b[1;33m\u001b[0m\u001b[1;33m\u001b[0m\u001b[0m\n\u001b[0;32m    310\u001b[0m                 )\n\u001b[1;32m--> 311\u001b[1;33m             \u001b[1;32mreturn\u001b[0m \u001b[0mfunc\u001b[0m\u001b[1;33m(\u001b[0m\u001b[1;33m*\u001b[0m\u001b[0margs\u001b[0m\u001b[1;33m,\u001b[0m \u001b[1;33m**\u001b[0m\u001b[0mkwargs\u001b[0m\u001b[1;33m)\u001b[0m\u001b[1;33m\u001b[0m\u001b[1;33m\u001b[0m\u001b[0m\n\u001b[0m\u001b[0;32m    312\u001b[0m \u001b[1;33m\u001b[0m\u001b[0m\n\u001b[0;32m    313\u001b[0m         \u001b[1;32mreturn\u001b[0m \u001b[0mwrapper\u001b[0m\u001b[1;33m\u001b[0m\u001b[1;33m\u001b[0m\u001b[0m\n",
      "\u001b[1;32m~\\anaconda3\\lib\\site-packages\\pandas\\io\\excel\\_base.py\u001b[0m in \u001b[0;36mread_excel\u001b[1;34m(io, sheet_name, header, names, index_col, usecols, squeeze, dtype, engine, converters, true_values, false_values, skiprows, nrows, na_values, keep_default_na, na_filter, verbose, parse_dates, date_parser, thousands, decimal, comment, skipfooter, convert_float, mangle_dupe_cols, storage_options)\u001b[0m\n\u001b[0;32m    455\u001b[0m     \u001b[1;32mif\u001b[0m \u001b[1;32mnot\u001b[0m \u001b[0misinstance\u001b[0m\u001b[1;33m(\u001b[0m\u001b[0mio\u001b[0m\u001b[1;33m,\u001b[0m \u001b[0mExcelFile\u001b[0m\u001b[1;33m)\u001b[0m\u001b[1;33m:\u001b[0m\u001b[1;33m\u001b[0m\u001b[1;33m\u001b[0m\u001b[0m\n\u001b[0;32m    456\u001b[0m         \u001b[0mshould_close\u001b[0m \u001b[1;33m=\u001b[0m \u001b[1;32mTrue\u001b[0m\u001b[1;33m\u001b[0m\u001b[1;33m\u001b[0m\u001b[0m\n\u001b[1;32m--> 457\u001b[1;33m         \u001b[0mio\u001b[0m \u001b[1;33m=\u001b[0m \u001b[0mExcelFile\u001b[0m\u001b[1;33m(\u001b[0m\u001b[0mio\u001b[0m\u001b[1;33m,\u001b[0m \u001b[0mstorage_options\u001b[0m\u001b[1;33m=\u001b[0m\u001b[0mstorage_options\u001b[0m\u001b[1;33m,\u001b[0m \u001b[0mengine\u001b[0m\u001b[1;33m=\u001b[0m\u001b[0mengine\u001b[0m\u001b[1;33m)\u001b[0m\u001b[1;33m\u001b[0m\u001b[1;33m\u001b[0m\u001b[0m\n\u001b[0m\u001b[0;32m    458\u001b[0m     \u001b[1;32melif\u001b[0m \u001b[0mengine\u001b[0m \u001b[1;32mand\u001b[0m \u001b[0mengine\u001b[0m \u001b[1;33m!=\u001b[0m \u001b[0mio\u001b[0m\u001b[1;33m.\u001b[0m\u001b[0mengine\u001b[0m\u001b[1;33m:\u001b[0m\u001b[1;33m\u001b[0m\u001b[1;33m\u001b[0m\u001b[0m\n\u001b[0;32m    459\u001b[0m         raise ValueError(\n",
      "\u001b[1;32m~\\anaconda3\\lib\\site-packages\\pandas\\io\\excel\\_base.py\u001b[0m in \u001b[0;36m__init__\u001b[1;34m(self, path_or_buffer, engine, storage_options)\u001b[0m\n\u001b[0;32m   1374\u001b[0m                 \u001b[0mext\u001b[0m \u001b[1;33m=\u001b[0m \u001b[1;34m\"xls\"\u001b[0m\u001b[1;33m\u001b[0m\u001b[1;33m\u001b[0m\u001b[0m\n\u001b[0;32m   1375\u001b[0m             \u001b[1;32melse\u001b[0m\u001b[1;33m:\u001b[0m\u001b[1;33m\u001b[0m\u001b[1;33m\u001b[0m\u001b[0m\n\u001b[1;32m-> 1376\u001b[1;33m                 ext = inspect_excel_format(\n\u001b[0m\u001b[0;32m   1377\u001b[0m                     \u001b[0mcontent_or_path\u001b[0m\u001b[1;33m=\u001b[0m\u001b[0mpath_or_buffer\u001b[0m\u001b[1;33m,\u001b[0m \u001b[0mstorage_options\u001b[0m\u001b[1;33m=\u001b[0m\u001b[0mstorage_options\u001b[0m\u001b[1;33m\u001b[0m\u001b[1;33m\u001b[0m\u001b[0m\n\u001b[0;32m   1378\u001b[0m                 )\n",
      "\u001b[1;32m~\\anaconda3\\lib\\site-packages\\pandas\\io\\excel\\_base.py\u001b[0m in \u001b[0;36minspect_excel_format\u001b[1;34m(content_or_path, storage_options)\u001b[0m\n\u001b[0;32m   1248\u001b[0m         \u001b[0mcontent_or_path\u001b[0m \u001b[1;33m=\u001b[0m \u001b[0mBytesIO\u001b[0m\u001b[1;33m(\u001b[0m\u001b[0mcontent_or_path\u001b[0m\u001b[1;33m)\u001b[0m\u001b[1;33m\u001b[0m\u001b[1;33m\u001b[0m\u001b[0m\n\u001b[0;32m   1249\u001b[0m \u001b[1;33m\u001b[0m\u001b[0m\n\u001b[1;32m-> 1250\u001b[1;33m     with get_handle(\n\u001b[0m\u001b[0;32m   1251\u001b[0m         \u001b[0mcontent_or_path\u001b[0m\u001b[1;33m,\u001b[0m \u001b[1;34m\"rb\"\u001b[0m\u001b[1;33m,\u001b[0m \u001b[0mstorage_options\u001b[0m\u001b[1;33m=\u001b[0m\u001b[0mstorage_options\u001b[0m\u001b[1;33m,\u001b[0m \u001b[0mis_text\u001b[0m\u001b[1;33m=\u001b[0m\u001b[1;32mFalse\u001b[0m\u001b[1;33m\u001b[0m\u001b[1;33m\u001b[0m\u001b[0m\n\u001b[0;32m   1252\u001b[0m     ) as handle:\n",
      "\u001b[1;32m~\\anaconda3\\lib\\site-packages\\pandas\\io\\common.py\u001b[0m in \u001b[0;36mget_handle\u001b[1;34m(path_or_buf, mode, encoding, compression, memory_map, is_text, errors, storage_options)\u001b[0m\n\u001b[0;32m    793\u001b[0m         \u001b[1;32melse\u001b[0m\u001b[1;33m:\u001b[0m\u001b[1;33m\u001b[0m\u001b[1;33m\u001b[0m\u001b[0m\n\u001b[0;32m    794\u001b[0m             \u001b[1;31m# Binary mode\u001b[0m\u001b[1;33m\u001b[0m\u001b[1;33m\u001b[0m\u001b[0m\n\u001b[1;32m--> 795\u001b[1;33m             \u001b[0mhandle\u001b[0m \u001b[1;33m=\u001b[0m \u001b[0mopen\u001b[0m\u001b[1;33m(\u001b[0m\u001b[0mhandle\u001b[0m\u001b[1;33m,\u001b[0m \u001b[0mioargs\u001b[0m\u001b[1;33m.\u001b[0m\u001b[0mmode\u001b[0m\u001b[1;33m)\u001b[0m\u001b[1;33m\u001b[0m\u001b[1;33m\u001b[0m\u001b[0m\n\u001b[0m\u001b[0;32m    796\u001b[0m         \u001b[0mhandles\u001b[0m\u001b[1;33m.\u001b[0m\u001b[0mappend\u001b[0m\u001b[1;33m(\u001b[0m\u001b[0mhandle\u001b[0m\u001b[1;33m)\u001b[0m\u001b[1;33m\u001b[0m\u001b[1;33m\u001b[0m\u001b[0m\n\u001b[0;32m    797\u001b[0m \u001b[1;33m\u001b[0m\u001b[0m\n",
      "\u001b[1;31mFileNotFoundError\u001b[0m: [Errno 2] No such file or directory: 'CuoiKy.xlsm'"
     ]
    }
   ],
   "source": [
    "import numpy as np\n",
    "import matplotlib.pyplot as plt\n",
    "import pandas as pd\n",
    "data = pd.read_excel('CuoiKy.xlsm')\n",
    "DataMaster = pd.read_excel('CuoiKy.xlsm', sheet_name = 'Data_Master')\n",
    "CustomerMaster = pd.read_excel('CuoiKy.xlsm', sheet_name = 'Customer_Master')\n",
    "ProductMaster = DataMaster.iloc[0:37, 0:17]\n",
    "ProductMaster = ProductMaster.rename(columns=ProductMaster.iloc[0])\n",
    "ProductMaster = ProductMaster[1:]\n",
    "SalesOrder = pd.read_excel('CuoiKy.xlsm', sheet_name = 'Sales_Order')\n",
    "\n",
    "PackagingMaster = DataMaster.iloc[39:50, 0:5]\n",
    "PackagingMaster = PackagingMaster.rename(columns=PackagingMaster.iloc[0])\n",
    "PackagingMaster = PackagingMaster.fillna(method='ffill')\n",
    "\n",
    "FacilityMaster = DataMaster.iloc[52:59, 0:11]\n",
    "FacilityMaster = FacilityMaster.rename(columns=FacilityMaster.iloc[0])\n",
    "FacilityMaster = FacilityMaster[1:]\n",
    "\n",
    "CollectionPointCapacity = DataMaster.iloc[61:65, 0:6]\n",
    "CollectionPointCapacity = CollectionPointCapacity.rename(columns=CollectionPointCapacity.iloc[0])\n",
    "CollectionPointCapacity = CollectionPointCapacity[1:]\n",
    "CollectionPointCapacity = CollectionPointCapacity.fillna(method='ffill')\n",
    "SalesOrder = SalesOrder.iloc[:, :16]\n",
    "MyData = pd.DataFrame()\n",
    "MyData['ProductID'] = SalesOrder['ProductID']\n",
    "MyData['CustomerRef'] = SalesOrder['CustomerRef']\n",
    "MyData['SOCreationDate'] = SalesOrder['SOCreationDate']\n",
    "MyData['DispatchQuantityInKg'] = SalesOrder['DispatchQuantityInKg']\n",
    "MyData['NetWeightInKg'] = SalesOrder['NetWeightInKg']\n",
    "MyData['GrossWeightInKg'] =SalesOrder['GrossWeightInKg']\n",
    "\n",
    "# Merge the ProductMaster DataFrame with MyData DataFrame based on 'ProductID'\n",
    "MyData = MyData.merge(ProductMaster[['ProductID', 'ProductName', 'ShelfLifeInDays', 'KgPerPallet', 'Unit', 'CartonsPerPallet', 'UnitperCarton']], on='ProductID', how='left')\n",
    "\n",
    "# Merge the CustomerMaster DataFrame with MyData DataFrame based on 'CustomerRef'\n",
    "MyData = MyData.merge(CustomerMaster[['CustomerRef', 'Longitude', 'Latitude']], on='CustomerRef', how='left')\n",
    "#Calculate number of pallet per bill\n",
    "MyData['NumberOfPallet'] = MyData['NetWeightInKg']/ MyData['KgPerPallet']\n",
    "#Calculate number of unit\n",
    "MyData['NumberOfUnit'] = MyData['NumberOfPallet'] * MyData['CartonsPerPallet'] * MyData['UnitperCarton'].astype(float)\n",
    "MyData.head()"
   ]
  },
  {
   "cell_type": "markdown",
   "id": "e8a182db",
   "metadata": {},
   "source": [
    "# Tính tổng pallet cho từng khách hàng"
   ]
  },
  {
   "cell_type": "code",
   "execution_count": 24,
   "id": "009b0a4f",
   "metadata": {},
   "outputs": [
    {
     "ename": "NameError",
     "evalue": "name 'MyData' is not defined",
     "output_type": "error",
     "traceback": [
      "\u001b[1;31m---------------------------------------------------------------------------\u001b[0m",
      "\u001b[1;31mNameError\u001b[0m                                 Traceback (most recent call last)",
      "\u001b[1;32m~\\AppData\\Local\\Temp\\ipykernel_7972\\3785637401.py\u001b[0m in \u001b[0;36m<module>\u001b[1;34m\u001b[0m\n\u001b[1;32m----> 1\u001b[1;33m \u001b[0mCalculateProductGrouped\u001b[0m \u001b[1;33m=\u001b[0m \u001b[0mMyData\u001b[0m\u001b[1;33m.\u001b[0m\u001b[0mgroupby\u001b[0m\u001b[1;33m(\u001b[0m\u001b[1;34m'CustomerRef'\u001b[0m\u001b[1;33m)\u001b[0m\u001b[1;33m\u001b[0m\u001b[1;33m\u001b[0m\u001b[0m\n\u001b[0m\u001b[0;32m      2\u001b[0m \u001b[0mPalletPerCustomerRef\u001b[0m \u001b[1;33m=\u001b[0m \u001b[0mCalculateProductGrouped\u001b[0m\u001b[1;33m[\u001b[0m\u001b[1;34m'NumberOfPallet'\u001b[0m\u001b[1;33m]\u001b[0m\u001b[1;33m.\u001b[0m\u001b[0msum\u001b[0m\u001b[1;33m(\u001b[0m\u001b[1;33m)\u001b[0m\u001b[1;33m\u001b[0m\u001b[1;33m\u001b[0m\u001b[0m\n\u001b[0;32m      3\u001b[0m \u001b[0mPalletPerCustomerRef\u001b[0m \u001b[1;33m=\u001b[0m \u001b[0mPalletPerCustomerRef\u001b[0m\u001b[1;33m.\u001b[0m\u001b[0mreset_index\u001b[0m\u001b[1;33m(\u001b[0m\u001b[1;33m)\u001b[0m\u001b[1;33m\u001b[0m\u001b[1;33m\u001b[0m\u001b[0m\n\u001b[0;32m      4\u001b[0m \u001b[0mPalletPerCustomerRef\u001b[0m\u001b[1;33m.\u001b[0m\u001b[0mhead\u001b[0m\u001b[1;33m(\u001b[0m\u001b[1;33m)\u001b[0m\u001b[1;33m\u001b[0m\u001b[1;33m\u001b[0m\u001b[0m\n",
      "\u001b[1;31mNameError\u001b[0m: name 'MyData' is not defined"
     ]
    }
   ],
   "source": [
    "CalculateProductGrouped = MyData.groupby('CustomerRef')\n",
    "PalletPerCustomerRef = CalculateProductGrouped['NumberOfPallet'].sum()\n",
    "PalletPerCustomerRef = PalletPerCustomerRef.reset_index()\n",
    "PalletPerCustomerRef.head()"
   ]
  },
  {
   "cell_type": "markdown",
   "id": "aeaf0d4b",
   "metadata": {},
   "source": [
    "# Tính khoảng cách từ Distribution Center tới từng khách hàng"
   ]
  },
  {
   "cell_type": "code",
   "execution_count": 25,
   "id": "38b54946",
   "metadata": {},
   "outputs": [
    {
     "ename": "NameError",
     "evalue": "name 'PalletPerCustomerRef' is not defined",
     "output_type": "error",
     "traceback": [
      "\u001b[1;31m---------------------------------------------------------------------------\u001b[0m",
      "\u001b[1;31mNameError\u001b[0m                                 Traceback (most recent call last)",
      "\u001b[1;32m~\\AppData\\Local\\Temp\\ipykernel_7972\\2768993804.py\u001b[0m in \u001b[0;36m<module>\u001b[1;34m\u001b[0m\n\u001b[1;32m----> 1\u001b[1;33m PalletPerCustomerRef = PalletPerCustomerRef.merge(CustomerMaster[['CustomerRef', 'Longitude', 'Latitude']],\n\u001b[0m\u001b[0;32m      2\u001b[0m                                                   on='CustomerRef', how='left')\n\u001b[0;32m      3\u001b[0m \u001b[0mDC_facilities\u001b[0m \u001b[1;33m=\u001b[0m \u001b[0mFacilityMaster\u001b[0m\u001b[1;33m[\u001b[0m\u001b[0mFacilityMaster\u001b[0m\u001b[1;33m[\u001b[0m\u001b[1;34m'Type'\u001b[0m\u001b[1;33m]\u001b[0m \u001b[1;33m==\u001b[0m \u001b[1;34m'DC'\u001b[0m\u001b[1;33m]\u001b[0m\u001b[1;33m\u001b[0m\u001b[1;33m\u001b[0m\u001b[0m\n\u001b[0;32m      4\u001b[0m \u001b[0mDC_Longitude\u001b[0m \u001b[1;33m=\u001b[0m \u001b[0mDC_facilities\u001b[0m\u001b[1;33m[\u001b[0m\u001b[1;34m'Longitude'\u001b[0m\u001b[1;33m]\u001b[0m\u001b[1;33m.\u001b[0m\u001b[0mmean\u001b[0m\u001b[1;33m(\u001b[0m\u001b[1;33m)\u001b[0m\u001b[1;33m\u001b[0m\u001b[1;33m\u001b[0m\u001b[0m\n\u001b[0;32m      5\u001b[0m \u001b[0mDC_Latitude\u001b[0m \u001b[1;33m=\u001b[0m \u001b[0mDC_facilities\u001b[0m\u001b[1;33m[\u001b[0m\u001b[1;34m'Latitude'\u001b[0m\u001b[1;33m]\u001b[0m\u001b[1;33m.\u001b[0m\u001b[0mmean\u001b[0m\u001b[1;33m(\u001b[0m\u001b[1;33m)\u001b[0m\u001b[1;33m\u001b[0m\u001b[1;33m\u001b[0m\u001b[0m\n",
      "\u001b[1;31mNameError\u001b[0m: name 'PalletPerCustomerRef' is not defined"
     ]
    }
   ],
   "source": [
    "PalletPerCustomerRef = PalletPerCustomerRef.merge(CustomerMaster[['CustomerRef', 'Longitude', 'Latitude']],\n",
    "                                                  on='CustomerRef', how='left')\n",
    "DC_facilities = FacilityMaster[FacilityMaster['Type'] == 'DC']\n",
    "DC_Longitude = DC_facilities['Longitude'].mean()\n",
    "DC_Latitude = DC_facilities['Latitude'].mean()\n",
    "import math\n",
    "PalletPerCustomerRef['DistanceToDC'] = (PalletPerCustomerRef['Latitude'] - DC_Latitude)**2 + (PalletPerCustomerRef['Longitude'] - DC_Longitude)**2\n",
    "PalletPerCustomerRef['DistanceToDC'] = PalletPerCustomerRef['DistanceToDC'].apply(lambda x: math.sqrt(x))\n",
    "PalletPerCustomerRef.head()"
   ]
  },
  {
   "cell_type": "markdown",
   "id": "1a2cc76b",
   "metadata": {},
   "source": [
    "# Tiến hành phân cụm"
   ]
  },
  {
   "cell_type": "code",
   "execution_count": 26,
   "id": "b6598af8",
   "metadata": {},
   "outputs": [
    {
     "ename": "NameError",
     "evalue": "name 'PalletPerCustomerRef' is not defined",
     "output_type": "error",
     "traceback": [
      "\u001b[1;31m---------------------------------------------------------------------------\u001b[0m",
      "\u001b[1;31mNameError\u001b[0m                                 Traceback (most recent call last)",
      "\u001b[1;32m~\\AppData\\Local\\Temp\\ipykernel_7972\\701393256.py\u001b[0m in \u001b[0;36m<module>\u001b[1;34m\u001b[0m\n\u001b[0;32m      3\u001b[0m \u001b[0mcolumns_to_normalize\u001b[0m \u001b[1;33m=\u001b[0m \u001b[1;33m[\u001b[0m\u001b[1;34m'Latitude'\u001b[0m\u001b[1;33m,\u001b[0m \u001b[1;34m'Longitude'\u001b[0m\u001b[1;33m,\u001b[0m \u001b[1;34m'DistanceToDC'\u001b[0m\u001b[1;33m,\u001b[0m \u001b[1;34m'NumberOfPallet'\u001b[0m\u001b[1;33m]\u001b[0m\u001b[1;33m\u001b[0m\u001b[1;33m\u001b[0m\u001b[0m\n\u001b[0;32m      4\u001b[0m \u001b[0mscaler\u001b[0m \u001b[1;33m=\u001b[0m \u001b[0mMinMaxScaler\u001b[0m\u001b[1;33m(\u001b[0m\u001b[1;33m)\u001b[0m\u001b[1;33m\u001b[0m\u001b[1;33m\u001b[0m\u001b[0m\n\u001b[1;32m----> 5\u001b[1;33m \u001b[0mdf_normalized\u001b[0m \u001b[1;33m=\u001b[0m \u001b[0mPalletPerCustomerRef\u001b[0m\u001b[1;33m.\u001b[0m\u001b[0mcopy\u001b[0m\u001b[1;33m(\u001b[0m\u001b[1;33m)\u001b[0m\u001b[1;33m\u001b[0m\u001b[1;33m\u001b[0m\u001b[0m\n\u001b[0m\u001b[0;32m      6\u001b[0m \u001b[0mdf_normalized\u001b[0m\u001b[1;33m[\u001b[0m\u001b[0mcolumns_to_normalize\u001b[0m\u001b[1;33m]\u001b[0m \u001b[1;33m=\u001b[0m \u001b[0mscaler\u001b[0m\u001b[1;33m.\u001b[0m\u001b[0mfit_transform\u001b[0m\u001b[1;33m(\u001b[0m\u001b[0mPalletPerCustomerRef\u001b[0m\u001b[1;33m[\u001b[0m\u001b[0mcolumns_to_normalize\u001b[0m\u001b[1;33m]\u001b[0m\u001b[1;33m)\u001b[0m\u001b[1;33m\u001b[0m\u001b[1;33m\u001b[0m\u001b[0m\n\u001b[0;32m      7\u001b[0m \u001b[1;33m\u001b[0m\u001b[0m\n",
      "\u001b[1;31mNameError\u001b[0m: name 'PalletPerCustomerRef' is not defined"
     ]
    }
   ],
   "source": [
    "from sklearn.preprocessing import MinMaxScaler\n",
    "# Các cột xác định cần chuẩn hóa\n",
    "columns_to_normalize = ['Latitude', 'Longitude', 'DistanceToDC', 'NumberOfPallet']\n",
    "scaler = MinMaxScaler()\n",
    "df_normalized = PalletPerCustomerRef.copy()\n",
    "df_normalized[columns_to_normalize] = scaler.fit_transform(PalletPerCustomerRef[columns_to_normalize])\n",
    "\n",
    "from sklearn.cluster import KMeans\n",
    "# Dữ liệu vĩ độ và kinh độ\n",
    "Longitude = df_normalized['Longitude']\n",
    "Latitude = df_normalized['Latitude']\n",
    "NumberOfPallet = df_normalized['NumberOfPallet']\n",
    "DistanceToDC = df_normalized['DistanceToDC']\n",
    "# Ghép hai features thành một mảng 2D\n",
    "data = np.column_stack((Latitude, Longitude, DistanceToDC, NumberOfPallet))\n",
    "\n",
    "# Áp dụng KMeans với số lượng cụm mong muốn\n",
    "kmeans = KMeans(n_clusters=5)\n",
    "kmeans.fit(data)\n",
    "# Lấy nhãn của các điểm dữ liệu\n",
    "labels = kmeans.labels_\n",
    "\n",
    "# Tạo bảng màu cho các nhãn\n",
    "color_map = plt.cm.get_cmap('Set1', len(np.unique(labels)))\n",
    "\n",
    "# Vẽ biểu đồ\n",
    "# Lấy giá trị trung tâm của từng cụm\n",
    "cluster_centers = kmeans.cluster_centers_\n",
    "# Vẽ biểu đồ các trung tâm cụm\n",
    "plt.scatter(data[:, 1], data[:, 0], c=labels, cmap=color_map)\n",
    "plt.xlabel('Longitude')\n",
    "plt.ylabel('Latitude')\n",
    "plt.title('K-means Clustering in latitude, longitude, numberofpallet and distance_to_DC')\n",
    "plt.show()"
   ]
  },
  {
   "cell_type": "markdown",
   "id": "294e4d30",
   "metadata": {},
   "source": [
    "#  Tính toán chi phí và dung tích cho từng cụm"
   ]
  },
  {
   "cell_type": "code",
   "execution_count": null,
   "id": "89ee236a",
   "metadata": {},
   "outputs": [],
   "source": [
    "PalletPerCustomerRef['Cluster'] = labels\n",
    "MyData = MyData.merge(PalletPerCustomerRef[['CustomerRef', 'Cluster']], on='CustomerRef', how='left')\n",
    "dfCapacity = MyData.loc[:, ['SOCreationDate', 'NumberOfPallet', 'Cluster']]\n",
    "# Gom nhóm theo cụm và theo các tuần\n",
    "CapacityGrouped = dfCapacity.groupby(['Cluster', 'SOCreationDate'])\n",
    "dfCapacityGrouped = CapacityGrouped['NumberOfPallet'].sum().reset_index()\n",
    "dfCapacityGrouped = dfCapacityGrouped[dfCapacityGrouped['SOCreationDate'].dt.year == 2022].reset_index(drop=True)\n",
    "dfCapacityGrouped['Week'] = dfCapacityGrouped['SOCreationDate'].dt.isocalendar().week\n",
    "dfCapacityGrouped['NumberOfPalletReturned'] = dfCapacityGrouped['NumberOfPallet'] / 2\n",
    "\n",
    "dfCapacityGrouped.head()"
   ]
  },
  {
   "cell_type": "markdown",
   "id": "ccefd457",
   "metadata": {},
   "source": [
    "## Tạo dataframe cho từng cụm"
   ]
  },
  {
   "cell_type": "code",
   "execution_count": null,
   "id": "bd60194b",
   "metadata": {},
   "outputs": [],
   "source": [
    "cluster_data = {}\n",
    "\n",
    "for cluster in dfCapacityGrouped['Cluster'].unique():\n",
    "    cluster_data[cluster] = dfCapacityGrouped[dfCapacityGrouped['Cluster'] == cluster].reset_index()"
   ]
  },
  {
   "cell_type": "markdown",
   "id": "8c5115f9",
   "metadata": {},
   "source": [
    "## Hàm tính chi phí"
   ]
  },
  {
   "cell_type": "code",
   "execution_count": null,
   "id": "c60489df",
   "metadata": {},
   "outputs": [],
   "source": [
    "def costOverFlowPerWeek(numberOfWeek, Size, df):\n",
    "    size = Size\n",
    "    sumPallet = 0\n",
    "    dateOverflow = 0\n",
    "    totalCostOverFlowPerWeek = 0\n",
    "    initOverflow = 0\n",
    "    for i in range(df.shape[0]):\n",
    "        if df['Week'][i] == numberOfWeek:\n",
    "            if sumPallet < size:\n",
    "                sumPallet += df['NumberOfPalletReturned'][i]\n",
    "                if sumPallet > size:\n",
    "                    dateOverflow = (df['SOCreationDate'][i].weekday() + 1)\n",
    "                    initOverflow = (sumPallet - size) * 3\n",
    "                    sumPallet = size\n",
    "            else:\n",
    "                sumPallet += df['NumberOfPalletReturned'][i]\n",
    "    if sumPallet - size > 0:\n",
    "        totalCostOverFlowPerWeek = initOverflow + (sumPallet - size) * 3 * (7 - dateOverflow)\n",
    "        return totalCostOverFlowPerWeek\n",
    "    else:\n",
    "        return 0\n",
    "\n",
    "def costOverflow(df, Size):\n",
    "    cost = 0\n",
    "    for week in range(1, 53):\n",
    "        cost += costOverFlowPerWeek(week, Size, df)\n",
    "    return cost   \n",
    "\n",
    "def totalCost(df, Size):\n",
    "    return Size * 100 + costOverflow(df, Size)"
   ]
  },
  {
   "cell_type": "markdown",
   "id": "832ee9f1",
   "metadata": {},
   "source": [
    "## Xác định size từng cụm để tổng chi phí hằng năm và overflow là thấp nhất"
   ]
  },
  {
   "cell_type": "code",
   "execution_count": null,
   "id": "f5143552",
   "metadata": {},
   "outputs": [],
   "source": [
    "sizeCluster = []\n",
    "for cluster in range(5):\n",
    "    costList = []\n",
    "    sizeList = list(range(1, 51, 1))\n",
    "    for size in sizeList:\n",
    "        costList.append(totalCost(cluster_data[cluster], size))\n",
    "    sizeCluster.append(sizeList[costList.index(min(costList))])\n",
    "sizeCluster"
   ]
  },
  {
   "cell_type": "code",
   "execution_count": 27,
   "id": "219c5fe1",
   "metadata": {},
   "outputs": [
    {
     "ename": "KeyError",
     "evalue": "3",
     "output_type": "error",
     "traceback": [
      "\u001b[1;31m---------------------------------------------------------------------------\u001b[0m",
      "\u001b[1;31mKeyError\u001b[0m                                  Traceback (most recent call last)",
      "\u001b[1;32m~\\AppData\\Local\\Temp\\ipykernel_7972\\3929270085.py\u001b[0m in \u001b[0;36m<module>\u001b[1;34m\u001b[0m\n\u001b[0;32m      2\u001b[0m \u001b[0msizeList\u001b[0m \u001b[1;33m=\u001b[0m \u001b[0mlist\u001b[0m\u001b[1;33m(\u001b[0m\u001b[0mrange\u001b[0m\u001b[1;33m(\u001b[0m\u001b[1;36m1000\u001b[0m\u001b[1;33m,\u001b[0m \u001b[1;36m1501\u001b[0m\u001b[1;33m,\u001b[0m \u001b[1;36m10\u001b[0m\u001b[1;33m)\u001b[0m\u001b[1;33m)\u001b[0m\u001b[1;33m\u001b[0m\u001b[1;33m\u001b[0m\u001b[0m\n\u001b[0;32m      3\u001b[0m \u001b[1;32mfor\u001b[0m \u001b[0msize\u001b[0m \u001b[1;32min\u001b[0m \u001b[0msizeList\u001b[0m\u001b[1;33m:\u001b[0m\u001b[1;33m\u001b[0m\u001b[1;33m\u001b[0m\u001b[0m\n\u001b[1;32m----> 4\u001b[1;33m     \u001b[0mcostList\u001b[0m\u001b[1;33m.\u001b[0m\u001b[0mappend\u001b[0m\u001b[1;33m(\u001b[0m\u001b[0mtotalCost\u001b[0m\u001b[1;33m(\u001b[0m\u001b[0mcluster_data\u001b[0m\u001b[1;33m[\u001b[0m\u001b[1;36m3\u001b[0m\u001b[1;33m]\u001b[0m\u001b[1;33m,\u001b[0m \u001b[0msize\u001b[0m\u001b[1;33m)\u001b[0m\u001b[1;33m)\u001b[0m\u001b[1;33m\u001b[0m\u001b[1;33m\u001b[0m\u001b[0m\n\u001b[0m\u001b[0;32m      5\u001b[0m \u001b[0msizeCluster\u001b[0m\u001b[1;33m.\u001b[0m\u001b[0mappend\u001b[0m\u001b[1;33m(\u001b[0m\u001b[0msizeList\u001b[0m\u001b[1;33m[\u001b[0m\u001b[0mcostList\u001b[0m\u001b[1;33m.\u001b[0m\u001b[0mindex\u001b[0m\u001b[1;33m(\u001b[0m\u001b[0mmin\u001b[0m\u001b[1;33m(\u001b[0m\u001b[0mcostList\u001b[0m\u001b[1;33m)\u001b[0m\u001b[1;33m)\u001b[0m\u001b[1;33m]\u001b[0m\u001b[1;33m)\u001b[0m\u001b[1;33m\u001b[0m\u001b[1;33m\u001b[0m\u001b[0m\n",
      "\u001b[1;31mKeyError\u001b[0m: 3"
     ]
    }
   ],
   "source": [
    "costList = []\n",
    "sizeList = list(range(1000, 1501, 10))\n",
    "for size in sizeList:\n",
    "    costList.append(totalCost(cluster_data[3], size))\n",
    "sizeCluster.append(sizeList[costList.index(min(costList))])"
   ]
  },
  {
   "cell_type": "code",
   "execution_count": 28,
   "id": "5094640e",
   "metadata": {},
   "outputs": [],
   "source": [
    "sizeCluster = [40, 20, 29, 1330, 3]"
   ]
  },
  {
   "cell_type": "markdown",
   "id": "3b862918",
   "metadata": {},
   "source": [
    "Chọn size 70 (small) cho các cụm 0, 1, 2 và 4. \n",
    "\n",
    "Chọn 6 điểm thu gom size small và 4 điểm thu gom size medium cho cụm 3"
   ]
  },
  {
   "cell_type": "code",
   "execution_count": 29,
   "id": "13d59a91",
   "metadata": {},
   "outputs": [
    {
     "name": "stdout",
     "output_type": "stream",
     "text": [
      "Total cost:\n"
     ]
    },
    {
     "ename": "KeyError",
     "evalue": "0",
     "output_type": "error",
     "traceback": [
      "\u001b[1;31m---------------------------------------------------------------------------\u001b[0m",
      "\u001b[1;31mKeyError\u001b[0m                                  Traceback (most recent call last)",
      "\u001b[1;32m~\\AppData\\Local\\Temp\\ipykernel_7972\\1596861834.py\u001b[0m in \u001b[0;36m<module>\u001b[1;34m\u001b[0m\n\u001b[0;32m      1\u001b[0m \u001b[0mprint\u001b[0m\u001b[1;33m(\u001b[0m\u001b[1;34m\"Total cost:\"\u001b[0m\u001b[1;33m)\u001b[0m\u001b[1;33m\u001b[0m\u001b[1;33m\u001b[0m\u001b[0m\n\u001b[1;32m----> 2\u001b[1;33m \u001b[0mprint\u001b[0m\u001b[1;33m(\u001b[0m\u001b[1;34m\"Cluster 0:\"\u001b[0m\u001b[1;33m,\u001b[0m \u001b[0mtotalCost\u001b[0m\u001b[1;33m(\u001b[0m\u001b[0mcluster_data\u001b[0m\u001b[1;33m[\u001b[0m\u001b[1;36m0\u001b[0m\u001b[1;33m]\u001b[0m\u001b[1;33m,\u001b[0m \u001b[1;36m70\u001b[0m\u001b[1;33m)\u001b[0m\u001b[1;33m)\u001b[0m\u001b[1;33m\u001b[0m\u001b[1;33m\u001b[0m\u001b[0m\n\u001b[0m\u001b[0;32m      3\u001b[0m \u001b[0mprint\u001b[0m\u001b[1;33m(\u001b[0m\u001b[1;34m\"Cluster 1:\"\u001b[0m\u001b[1;33m,\u001b[0m \u001b[0mtotalCost\u001b[0m\u001b[1;33m(\u001b[0m\u001b[0mcluster_data\u001b[0m\u001b[1;33m[\u001b[0m\u001b[1;36m1\u001b[0m\u001b[1;33m]\u001b[0m\u001b[1;33m,\u001b[0m \u001b[1;36m70\u001b[0m\u001b[1;33m)\u001b[0m\u001b[1;33m)\u001b[0m\u001b[1;33m\u001b[0m\u001b[1;33m\u001b[0m\u001b[0m\n\u001b[0;32m      4\u001b[0m \u001b[0mprint\u001b[0m\u001b[1;33m(\u001b[0m\u001b[1;34m\"Cluster 2:\"\u001b[0m\u001b[1;33m,\u001b[0m \u001b[0mtotalCost\u001b[0m\u001b[1;33m(\u001b[0m\u001b[0mcluster_data\u001b[0m\u001b[1;33m[\u001b[0m\u001b[1;36m2\u001b[0m\u001b[1;33m]\u001b[0m\u001b[1;33m,\u001b[0m \u001b[1;36m70\u001b[0m\u001b[1;33m)\u001b[0m\u001b[1;33m)\u001b[0m\u001b[1;33m\u001b[0m\u001b[1;33m\u001b[0m\u001b[0m\n\u001b[0;32m      5\u001b[0m \u001b[0mprint\u001b[0m\u001b[1;33m(\u001b[0m\u001b[1;34m\"Cluster 3:\"\u001b[0m\u001b[1;33m,\u001b[0m \u001b[0mtotalCost\u001b[0m\u001b[1;33m(\u001b[0m\u001b[0mcluster_data\u001b[0m\u001b[1;33m[\u001b[0m\u001b[1;36m3\u001b[0m\u001b[1;33m]\u001b[0m\u001b[1;33m,\u001b[0m \u001b[1;36m1340\u001b[0m\u001b[1;33m)\u001b[0m\u001b[1;33m)\u001b[0m\u001b[1;33m\u001b[0m\u001b[1;33m\u001b[0m\u001b[0m\n",
      "\u001b[1;31mKeyError\u001b[0m: 0"
     ]
    }
   ],
   "source": [
    "print(\"Total cost:\")\n",
    "print(\"Cluster 0:\", totalCost(cluster_data[0], 70))\n",
    "print(\"Cluster 1:\", totalCost(cluster_data[1], 70))\n",
    "print(\"Cluster 2:\", totalCost(cluster_data[2], 70))\n",
    "print(\"Cluster 3:\", totalCost(cluster_data[3], 1340))\n",
    "print(\"Cluster 4:\", totalCost(cluster_data[4], 70))\n",
    "print(\"Total:\", totalCost(cluster_data[0], 70) + totalCost(cluster_data[1], 70) + totalCost(cluster_data[2], 70) + totalCost(cluster_data[4], 70) + totalCost(cluster_data[3], 1340))"
   ]
  },
  {
   "cell_type": "markdown",
   "id": "6674cdb8",
   "metadata": {},
   "source": [
    "# GHG"
   ]
  },
  {
   "cell_type": "code",
   "execution_count": 30,
   "id": "1b80bdd1",
   "metadata": {},
   "outputs": [
    {
     "ename": "NameError",
     "evalue": "name 'MyData' is not defined",
     "output_type": "error",
     "traceback": [
      "\u001b[1;31m---------------------------------------------------------------------------\u001b[0m",
      "\u001b[1;31mNameError\u001b[0m                                 Traceback (most recent call last)",
      "\u001b[1;32m~\\AppData\\Local\\Temp\\ipykernel_7972\\355355002.py\u001b[0m in \u001b[0;36m<module>\u001b[1;34m\u001b[0m\n\u001b[1;32m----> 1\u001b[1;33m \u001b[0mMyData\u001b[0m\u001b[1;33m[\u001b[0m\u001b[1;34m'PackagingWeightInKg'\u001b[0m\u001b[1;33m]\u001b[0m \u001b[1;33m=\u001b[0m \u001b[0mMyData\u001b[0m\u001b[1;33m[\u001b[0m\u001b[1;34m'GrossWeightInKg'\u001b[0m\u001b[1;33m]\u001b[0m \u001b[1;33m-\u001b[0m \u001b[0mMyData\u001b[0m\u001b[1;33m[\u001b[0m\u001b[1;34m'NetWeightInKg'\u001b[0m\u001b[1;33m]\u001b[0m\u001b[1;33m\u001b[0m\u001b[1;33m\u001b[0m\u001b[0m\n\u001b[0m\u001b[0;32m      2\u001b[0m \u001b[0mMyData\u001b[0m \u001b[1;33m=\u001b[0m \u001b[0mMyData\u001b[0m\u001b[1;33m[\u001b[0m\u001b[0mMyData\u001b[0m\u001b[1;33m[\u001b[0m\u001b[1;34m'SOCreationDate'\u001b[0m\u001b[1;33m]\u001b[0m\u001b[1;33m.\u001b[0m\u001b[0mdt\u001b[0m\u001b[1;33m.\u001b[0m\u001b[0myear\u001b[0m \u001b[1;33m==\u001b[0m \u001b[1;36m2022\u001b[0m\u001b[1;33m]\u001b[0m\u001b[1;33m.\u001b[0m\u001b[0mreset_index\u001b[0m\u001b[1;33m(\u001b[0m\u001b[0mdrop\u001b[0m\u001b[1;33m=\u001b[0m\u001b[1;32mTrue\u001b[0m\u001b[1;33m)\u001b[0m\u001b[1;33m\u001b[0m\u001b[1;33m\u001b[0m\u001b[0m\n\u001b[0;32m      3\u001b[0m \u001b[0mPackageGrouped\u001b[0m \u001b[1;33m=\u001b[0m \u001b[0mMyData\u001b[0m\u001b[1;33m.\u001b[0m\u001b[0mgroupby\u001b[0m\u001b[1;33m(\u001b[0m\u001b[1;34m'Unit'\u001b[0m\u001b[1;33m)\u001b[0m\u001b[1;33m\u001b[0m\u001b[1;33m\u001b[0m\u001b[0m\n\u001b[0;32m      4\u001b[0m \u001b[0mdfPackageGrouped\u001b[0m \u001b[1;33m=\u001b[0m\u001b[0mPackageGrouped\u001b[0m\u001b[1;33m[\u001b[0m\u001b[1;34m'PackagingWeightInKg'\u001b[0m\u001b[1;33m]\u001b[0m\u001b[1;33m.\u001b[0m\u001b[0msum\u001b[0m\u001b[1;33m(\u001b[0m\u001b[1;33m)\u001b[0m\u001b[1;33m\u001b[0m\u001b[1;33m\u001b[0m\u001b[0m\n\u001b[0;32m      5\u001b[0m \u001b[0mdfPackageGrouped\u001b[0m \u001b[1;33m=\u001b[0m \u001b[0mdfPackageGrouped\u001b[0m\u001b[1;33m.\u001b[0m\u001b[0mreset_index\u001b[0m\u001b[1;33m(\u001b[0m\u001b[1;33m)\u001b[0m\u001b[1;33m\u001b[0m\u001b[1;33m\u001b[0m\u001b[0m\n",
      "\u001b[1;31mNameError\u001b[0m: name 'MyData' is not defined"
     ]
    }
   ],
   "source": [
    "MyData['PackagingWeightInKg'] = MyData['GrossWeightInKg'] - MyData['NetWeightInKg']\n",
    "MyData = MyData[MyData['SOCreationDate'].dt.year == 2022].reset_index(drop=True)\n",
    "PackageGrouped = MyData.groupby('Unit')\n",
    "dfPackageGrouped =PackageGrouped['PackagingWeightInKg'].sum()\n",
    "dfPackageGrouped = dfPackageGrouped.reset_index()\n",
    "dfPackageGrouped['PackagingWeightReturned'] = dfPackageGrouped['PackagingWeightInKg']/2\n",
    "CircularInflow = []\n",
    "value = 0.0\n",
    "while value < 1.01:\n",
    "    CircularInflow.append(value)\n",
    "    value += 0.01\n",
    "CircularInflow = [round(value, 2) for value in CircularInflow]\n",
    "CO2_cause_by_collection_point = MyData['NumberOfPallet'].sum()/2 * 2.4 * 0.371 /365 * 1000\n",
    "CO2_cause_by_collection_point\n"
   ]
  },
  {
   "cell_type": "markdown",
   "id": "fec0b04e",
   "metadata": {},
   "source": [
    "## Tổng khí thải năm 2022 nếu chưa thực hiện tái chế"
   ]
  },
  {
   "cell_type": "code",
   "execution_count": 31,
   "id": "3504294f",
   "metadata": {},
   "outputs": [
    {
     "ename": "NameError",
     "evalue": "name 'dfPackageGrouped' is not defined",
     "output_type": "error",
     "traceback": [
      "\u001b[1;31m---------------------------------------------------------------------------\u001b[0m",
      "\u001b[1;31mNameError\u001b[0m                                 Traceback (most recent call last)",
      "\u001b[1;32m~\\AppData\\Local\\Temp\\ipykernel_7972\\1286326164.py\u001b[0m in \u001b[0;36m<module>\u001b[1;34m\u001b[0m\n\u001b[1;32m----> 1\u001b[1;33m \u001b[0mCO2\u001b[0m\u001b[1;33m=\u001b[0m \u001b[0mdfPackageGrouped\u001b[0m\u001b[1;33m.\u001b[0m\u001b[0miloc\u001b[0m\u001b[1;33m[\u001b[0m\u001b[1;36m0\u001b[0m\u001b[1;33m,\u001b[0m \u001b[1;36m1\u001b[0m\u001b[1;33m]\u001b[0m\u001b[1;33m*\u001b[0m\u001b[1;36m0.7\u001b[0m \u001b[1;33m+\u001b[0m \u001b[0mdfPackageGrouped\u001b[0m\u001b[1;33m.\u001b[0m\u001b[0miloc\u001b[0m\u001b[1;33m[\u001b[0m\u001b[1;36m1\u001b[0m\u001b[1;33m,\u001b[0m \u001b[1;36m1\u001b[0m\u001b[1;33m]\u001b[0m\u001b[1;33m*\u001b[0m\u001b[1;36m1.2\u001b[0m \u001b[1;33m+\u001b[0m \u001b[0mdfPackageGrouped\u001b[0m\u001b[1;33m.\u001b[0m\u001b[0miloc\u001b[0m\u001b[1;33m[\u001b[0m\u001b[1;36m2\u001b[0m\u001b[1;33m,\u001b[0m \u001b[1;36m1\u001b[0m\u001b[1;33m]\u001b[0m \u001b[1;33m*\u001b[0m \u001b[1;36m3.1\u001b[0m\u001b[1;33m\u001b[0m\u001b[1;33m\u001b[0m\u001b[0m\n\u001b[0m\u001b[0;32m      2\u001b[0m \u001b[0mCO2\u001b[0m\u001b[1;33m\u001b[0m\u001b[1;33m\u001b[0m\u001b[0m\n",
      "\u001b[1;31mNameError\u001b[0m: name 'dfPackageGrouped' is not defined"
     ]
    }
   ],
   "source": [
    "CO2= dfPackageGrouped.iloc[0, 1]*0.7 + dfPackageGrouped.iloc[1, 1]*1.2 + dfPackageGrouped.iloc[2, 1] * 3.1\n",
    "CO2"
   ]
  },
  {
   "cell_type": "markdown",
   "id": "ad520b6e",
   "metadata": {},
   "source": [
    "## Tổng khí thải năm 2022 nếu được thực hiện tái chế"
   ]
  },
  {
   "cell_type": "code",
   "execution_count": 32,
   "id": "d85e8bef",
   "metadata": {},
   "outputs": [
    {
     "ename": "NameError",
     "evalue": "name 'CircularInflow' is not defined",
     "output_type": "error",
     "traceback": [
      "\u001b[1;31m---------------------------------------------------------------------------\u001b[0m",
      "\u001b[1;31mNameError\u001b[0m                                 Traceback (most recent call last)",
      "\u001b[1;32m~\\AppData\\Local\\Temp\\ipykernel_7972\\1386541038.py\u001b[0m in \u001b[0;36m<module>\u001b[1;34m\u001b[0m\n\u001b[0;32m      1\u001b[0m \u001b[0mCO2_Cause_By_Reduced_Material\u001b[0m \u001b[1;33m=\u001b[0m \u001b[1;33m[\u001b[0m\u001b[1;33m]\u001b[0m\u001b[1;33m\u001b[0m\u001b[1;33m\u001b[0m\u001b[0m\n\u001b[0;32m      2\u001b[0m \u001b[0mCO2_Cause_By_Virgin_Material\u001b[0m \u001b[1;33m=\u001b[0m \u001b[1;33m[\u001b[0m\u001b[1;33m]\u001b[0m\u001b[1;33m\u001b[0m\u001b[1;33m\u001b[0m\u001b[0m\n\u001b[1;32m----> 3\u001b[1;33m \u001b[1;32mfor\u001b[0m \u001b[0minflow\u001b[0m \u001b[1;32min\u001b[0m \u001b[0mCircularInflow\u001b[0m\u001b[1;33m:\u001b[0m\u001b[1;33m\u001b[0m\u001b[1;33m\u001b[0m\u001b[0m\n\u001b[0m\u001b[0;32m      4\u001b[0m     \u001b[0mresult1\u001b[0m \u001b[1;33m=\u001b[0m \u001b[0mdfPackageGrouped\u001b[0m\u001b[1;33m.\u001b[0m\u001b[0miloc\u001b[0m\u001b[1;33m[\u001b[0m\u001b[1;36m0\u001b[0m\u001b[1;33m,\u001b[0m \u001b[1;36m2\u001b[0m\u001b[1;33m]\u001b[0m \u001b[1;33m*\u001b[0m \u001b[0minflow\u001b[0m \u001b[1;33m*\u001b[0m \u001b[1;36m0.57\u001b[0m \u001b[1;33m+\u001b[0m \u001b[0mdfPackageGrouped\u001b[0m\u001b[1;33m.\u001b[0m\u001b[0miloc\u001b[0m\u001b[1;33m[\u001b[0m\u001b[1;36m1\u001b[0m\u001b[1;33m,\u001b[0m \u001b[1;36m2\u001b[0m\u001b[1;33m]\u001b[0m \u001b[1;33m*\u001b[0m \u001b[0minflow\u001b[0m \u001b[1;33m*\u001b[0m \u001b[1;36m0.55\u001b[0m \u001b[1;33m+\u001b[0m \u001b[0mdfPackageGrouped\u001b[0m\u001b[1;33m.\u001b[0m\u001b[0miloc\u001b[0m\u001b[1;33m[\u001b[0m\u001b[1;36m2\u001b[0m\u001b[1;33m,\u001b[0m \u001b[1;36m2\u001b[0m\u001b[1;33m]\u001b[0m \u001b[1;33m*\u001b[0m \u001b[0minflow\u001b[0m \u001b[1;33m*\u001b[0m \u001b[1;36m1.7\u001b[0m\u001b[1;33m\u001b[0m\u001b[1;33m\u001b[0m\u001b[0m\n\u001b[0;32m      5\u001b[0m     \u001b[0mresult2\u001b[0m \u001b[1;33m=\u001b[0m \u001b[1;33m(\u001b[0m\u001b[0mdfPackageGrouped\u001b[0m\u001b[1;33m.\u001b[0m\u001b[0miloc\u001b[0m\u001b[1;33m[\u001b[0m\u001b[1;36m0\u001b[0m\u001b[1;33m,\u001b[0m \u001b[1;36m1\u001b[0m\u001b[1;33m]\u001b[0m \u001b[1;33m-\u001b[0m \u001b[0mdfPackageGrouped\u001b[0m\u001b[1;33m.\u001b[0m\u001b[0miloc\u001b[0m\u001b[1;33m[\u001b[0m\u001b[1;36m0\u001b[0m\u001b[1;33m,\u001b[0m \u001b[1;36m2\u001b[0m\u001b[1;33m]\u001b[0m \u001b[1;33m*\u001b[0m \u001b[0minflow\u001b[0m\u001b[1;33m)\u001b[0m \u001b[1;33m*\u001b[0m \u001b[1;36m0.7\u001b[0m \u001b[1;33m+\u001b[0m \u001b[1;33m(\u001b[0m\u001b[0mdfPackageGrouped\u001b[0m\u001b[1;33m.\u001b[0m\u001b[0miloc\u001b[0m\u001b[1;33m[\u001b[0m\u001b[1;36m1\u001b[0m\u001b[1;33m,\u001b[0m \u001b[1;36m1\u001b[0m\u001b[1;33m]\u001b[0m \u001b[1;33m-\u001b[0m \u001b[0mdfPackageGrouped\u001b[0m\u001b[1;33m.\u001b[0m\u001b[0miloc\u001b[0m\u001b[1;33m[\u001b[0m\u001b[1;36m1\u001b[0m\u001b[1;33m,\u001b[0m \u001b[1;36m2\u001b[0m\u001b[1;33m]\u001b[0m \u001b[1;33m*\u001b[0m \u001b[0minflow\u001b[0m\u001b[1;33m)\u001b[0m \u001b[1;33m*\u001b[0m \u001b[1;36m1.2\u001b[0m \u001b[1;33m+\u001b[0m \u001b[1;33m(\u001b[0m\u001b[0mdfPackageGrouped\u001b[0m\u001b[1;33m.\u001b[0m\u001b[0miloc\u001b[0m\u001b[1;33m[\u001b[0m\u001b[1;36m2\u001b[0m\u001b[1;33m,\u001b[0m \u001b[1;36m1\u001b[0m\u001b[1;33m]\u001b[0m \u001b[1;33m-\u001b[0m \u001b[0mdfPackageGrouped\u001b[0m\u001b[1;33m.\u001b[0m\u001b[0miloc\u001b[0m\u001b[1;33m[\u001b[0m\u001b[1;36m2\u001b[0m\u001b[1;33m,\u001b[0m \u001b[1;36m2\u001b[0m\u001b[1;33m]\u001b[0m \u001b[1;33m*\u001b[0m \u001b[0minflow\u001b[0m\u001b[1;33m)\u001b[0m\u001b[1;33m*\u001b[0m\u001b[1;36m3.1\u001b[0m\u001b[1;33m\u001b[0m\u001b[1;33m\u001b[0m\u001b[0m\n",
      "\u001b[1;31mNameError\u001b[0m: name 'CircularInflow' is not defined"
     ]
    }
   ],
   "source": [
    "CO2_Cause_By_Reduced_Material = []\n",
    "CO2_Cause_By_Virgin_Material = []\n",
    "for inflow in CircularInflow:\n",
    "    result1 = dfPackageGrouped.iloc[0, 2] * inflow * 0.57 + dfPackageGrouped.iloc[1, 2] * inflow * 0.55 + dfPackageGrouped.iloc[2, 2] * inflow * 1.7\n",
    "    result2 = (dfPackageGrouped.iloc[0, 1] - dfPackageGrouped.iloc[0, 2] * inflow) * 0.7 + (dfPackageGrouped.iloc[1, 1] - dfPackageGrouped.iloc[1, 2] * inflow) * 1.2 + (dfPackageGrouped.iloc[2, 1] - dfPackageGrouped.iloc[2, 2] * inflow)*3.1\n",
    "    CO2_Cause_By_Reduced_Material.append(result1)\n",
    "    CO2_Cause_By_Virgin_Material.append(result2)\n",
    "total_CO2 = []\n",
    "for i in range(len(CO2_Cause_By_Reduced_Material)):\n",
    "    total_CO2.append(CO2_Cause_By_Reduced_Material[i] + CO2_Cause_By_Virgin_Material[i] + CO2_cause_by_collection_point)\n",
    "\n",
    "# biểu đồ\n",
    "plt.ylabel('CO2')\n",
    "plt.xlabel('%circluar inflow')\n",
    "plt.title('CO2 effection with percentage of circular inflow')\n",
    "# Tạo dữ liệu điểm trên đường ngang\n",
    "x = np.linspace(0, 1, 100)\n",
    "y = np.ones_like(x) * CO2\n",
    "\n",
    "# Vẽ đường ngang\n",
    "plt.plot(x, y, label='CO2 năm 2022')\n",
    "plt.plot(CircularInflow, total_CO2, label = 'CO2 có áp dụng tái chế')\n",
    "# Chú thích cho đường ngang\n",
    "plt.legend()"
   ]
  },
  {
   "cell_type": "markdown",
   "id": "b3216143",
   "metadata": {},
   "source": [
    "Dựa vào biểu đồ --> đề xuất % circular inflow là 100%"
   ]
  },
  {
   "cell_type": "code",
   "execution_count": 33,
   "id": "39de1210",
   "metadata": {},
   "outputs": [
    {
     "ename": "NameError",
     "evalue": "name 'CO2' is not defined",
     "output_type": "error",
     "traceback": [
      "\u001b[1;31m---------------------------------------------------------------------------\u001b[0m",
      "\u001b[1;31mNameError\u001b[0m                                 Traceback (most recent call last)",
      "\u001b[1;32m~\\AppData\\Local\\Temp\\ipykernel_7972\\373641747.py\u001b[0m in \u001b[0;36m<module>\u001b[1;34m\u001b[0m\n\u001b[1;32m----> 1\u001b[1;33m \u001b[0mprint\u001b[0m\u001b[1;33m(\u001b[0m\u001b[1;34m\"GHG saved: \"\u001b[0m\u001b[1;33m,\u001b[0m \u001b[0mCO2\u001b[0m \u001b[1;33m-\u001b[0m \u001b[0mtotal_CO2\u001b[0m\u001b[1;33m[\u001b[0m\u001b[1;36m100\u001b[0m\u001b[1;33m]\u001b[0m\u001b[1;33m)\u001b[0m\u001b[1;33m\u001b[0m\u001b[1;33m\u001b[0m\u001b[0m\n\u001b[0m",
      "\u001b[1;31mNameError\u001b[0m: name 'CO2' is not defined"
     ]
    }
   ],
   "source": [
    "print(\"GHG saved: \", CO2 - total_CO2[100])"
   ]
  },
  {
   "cell_type": "markdown",
   "id": "4bd6278e",
   "metadata": {},
   "source": [
    "# Tổng số bao bì tái sử dụng"
   ]
  },
  {
   "cell_type": "code",
   "execution_count": 34,
   "id": "50d87c6a",
   "metadata": {},
   "outputs": [
    {
     "ename": "NameError",
     "evalue": "name 'dfPackageGrouped' is not defined",
     "output_type": "error",
     "traceback": [
      "\u001b[1;31m---------------------------------------------------------------------------\u001b[0m",
      "\u001b[1;31mNameError\u001b[0m                                 Traceback (most recent call last)",
      "\u001b[1;32m~\\AppData\\Local\\Temp\\ipykernel_7972\\3116721065.py\u001b[0m in \u001b[0;36m<module>\u001b[1;34m\u001b[0m\n\u001b[1;32m----> 1\u001b[1;33m \u001b[0mprint\u001b[0m\u001b[1;33m(\u001b[0m\u001b[1;34m\"Total CTN recycled: \"\u001b[0m\u001b[1;33m,\u001b[0m \u001b[0mdfPackageGrouped\u001b[0m\u001b[1;33m.\u001b[0m\u001b[0miloc\u001b[0m\u001b[1;33m[\u001b[0m\u001b[1;36m0\u001b[0m\u001b[1;33m,\u001b[0m \u001b[1;36m1\u001b[0m\u001b[1;33m]\u001b[0m\u001b[1;33m)\u001b[0m\u001b[1;33m\u001b[0m\u001b[1;33m\u001b[0m\u001b[0m\n\u001b[0m\u001b[0;32m      2\u001b[0m \u001b[0mprint\u001b[0m\u001b[1;33m(\u001b[0m\u001b[1;34m\"Total GBOT recycled: \"\u001b[0m\u001b[1;33m,\u001b[0m \u001b[0mdfPackageGrouped\u001b[0m\u001b[1;33m.\u001b[0m\u001b[0miloc\u001b[0m\u001b[1;33m[\u001b[0m\u001b[1;36m1\u001b[0m\u001b[1;33m,\u001b[0m \u001b[1;36m1\u001b[0m\u001b[1;33m]\u001b[0m\u001b[1;33m)\u001b[0m\u001b[1;33m\u001b[0m\u001b[1;33m\u001b[0m\u001b[0m\n\u001b[0;32m      3\u001b[0m \u001b[0mprint\u001b[0m\u001b[1;33m(\u001b[0m\u001b[1;34m\"Total PBOT recycled: \"\u001b[0m\u001b[1;33m,\u001b[0m \u001b[0mdfPackageGrouped\u001b[0m\u001b[1;33m.\u001b[0m\u001b[0miloc\u001b[0m\u001b[1;33m[\u001b[0m\u001b[1;36m2\u001b[0m\u001b[1;33m,\u001b[0m \u001b[1;36m1\u001b[0m\u001b[1;33m]\u001b[0m\u001b[1;33m)\u001b[0m\u001b[1;33m\u001b[0m\u001b[1;33m\u001b[0m\u001b[0m\n",
      "\u001b[1;31mNameError\u001b[0m: name 'dfPackageGrouped' is not defined"
     ]
    }
   ],
   "source": [
    "print(\"Total CTN recycled: \", dfPackageGrouped.iloc[0, 1])\n",
    "print(\"Total GBOT recycled: \", dfPackageGrouped.iloc[1, 1])\n",
    "print(\"Total PBOT recycled: \", dfPackageGrouped.iloc[2, 1])"
   ]
  },
  {
   "cell_type": "markdown",
   "id": "c9ac735f",
   "metadata": {},
   "source": [
    "Hết"
   ]
  },
  {
   "cell_type": "markdown",
   "id": "5b08cc5d",
   "metadata": {},
   "source": [
    "# Cải thiện cách phân cụm"
   ]
  },
  {
   "cell_type": "markdown",
   "id": "809a606c",
   "metadata": {},
   "source": [
    "# Thực hiện gộp các cụm nhỏ nhằm giảm chi phí thuê hằng năm"
   ]
  },
  {
   "cell_type": "code",
   "execution_count": 35,
   "id": "56243e84",
   "metadata": {},
   "outputs": [
    {
     "ename": "NameError",
     "evalue": "name 'cluster_centers' is not defined",
     "output_type": "error",
     "traceback": [
      "\u001b[1;31m---------------------------------------------------------------------------\u001b[0m",
      "\u001b[1;31mNameError\u001b[0m                                 Traceback (most recent call last)",
      "\u001b[1;32m~\\AppData\\Local\\Temp\\ipykernel_7972\\672806194.py\u001b[0m in \u001b[0;36m<module>\u001b[1;34m\u001b[0m\n\u001b[1;32m----> 1\u001b[1;33m \u001b[0mrestored_data\u001b[0m \u001b[1;33m=\u001b[0m \u001b[0mscaler\u001b[0m\u001b[1;33m.\u001b[0m\u001b[0minverse_transform\u001b[0m\u001b[1;33m(\u001b[0m\u001b[0mcluster_centers\u001b[0m\u001b[1;33m)\u001b[0m\u001b[1;33m\u001b[0m\u001b[1;33m\u001b[0m\u001b[0m\n\u001b[0m\u001b[0;32m      2\u001b[0m \u001b[0mrestored_data\u001b[0m\u001b[1;33m\u001b[0m\u001b[1;33m\u001b[0m\u001b[0m\n\u001b[0;32m      3\u001b[0m \u001b[1;31m# Cụm 0\u001b[0m\u001b[1;33m\u001b[0m\u001b[1;33m\u001b[0m\u001b[0m\n\u001b[0;32m      4\u001b[0m \u001b[0mLongitude_0\u001b[0m \u001b[1;33m=\u001b[0m \u001b[0mPalletPerCustomerRef\u001b[0m\u001b[1;33m[\u001b[0m\u001b[0mPalletPerCustomerRef\u001b[0m\u001b[1;33m[\u001b[0m\u001b[1;34m'Cluster'\u001b[0m\u001b[1;33m]\u001b[0m \u001b[1;33m==\u001b[0m \u001b[1;36m0\u001b[0m\u001b[1;33m]\u001b[0m\u001b[1;33m[\u001b[0m\u001b[1;34m'Longitude'\u001b[0m\u001b[1;33m]\u001b[0m\u001b[1;33m\u001b[0m\u001b[1;33m\u001b[0m\u001b[0m\n\u001b[0;32m      5\u001b[0m \u001b[0mLatitude_0\u001b[0m \u001b[1;33m=\u001b[0m \u001b[0mPalletPerCustomerRef\u001b[0m\u001b[1;33m[\u001b[0m\u001b[0mPalletPerCustomerRef\u001b[0m\u001b[1;33m[\u001b[0m\u001b[1;34m'Cluster'\u001b[0m\u001b[1;33m]\u001b[0m \u001b[1;33m==\u001b[0m \u001b[1;36m0\u001b[0m\u001b[1;33m]\u001b[0m\u001b[1;33m[\u001b[0m\u001b[1;34m'Latitude'\u001b[0m\u001b[1;33m]\u001b[0m\u001b[1;33m\u001b[0m\u001b[1;33m\u001b[0m\u001b[0m\n",
      "\u001b[1;31mNameError\u001b[0m: name 'cluster_centers' is not defined"
     ]
    }
   ],
   "source": [
    "restored_data = scaler.inverse_transform(cluster_centers)\n",
    "restored_data\n",
    "# Cụm 0\n",
    "Longitude_0 = PalletPerCustomerRef[PalletPerCustomerRef['Cluster'] == 0]['Longitude']\n",
    "Latitude_0 = PalletPerCustomerRef[PalletPerCustomerRef['Cluster'] == 0]['Latitude']\n",
    "plt.scatter(Longitude_0, Latitude_0, s=20, c='red', label='Cluster 0')\n",
    "\n",
    "# Cụm 1\n",
    "Longitude_1 = PalletPerCustomerRef[PalletPerCustomerRef['Cluster'] == 1]['Longitude']\n",
    "Latitude_1 = PalletPerCustomerRef[PalletPerCustomerRef['Cluster'] == 1]['Latitude']\n",
    "plt.scatter(Longitude_1, Latitude_1, s=20, c='blue', label='Cluster 1')\n",
    "\n",
    "# Cụm 2\n",
    "Longitude_2 = PalletPerCustomerRef[PalletPerCustomerRef['Cluster'] == 2]['Longitude']\n",
    "Latitude_2 = PalletPerCustomerRef[PalletPerCustomerRef['Cluster'] == 2]['Latitude']\n",
    "plt.scatter(Longitude_2, Latitude_2, s=20, c='green', label='Cluster 2')\n",
    "\n",
    "# Cụm 3\n",
    "Longitude_3 = PalletPerCustomerRef[PalletPerCustomerRef['Cluster'] == 3]['Longitude']\n",
    "Latitude_3 = PalletPerCustomerRef[PalletPerCustomerRef['Cluster'] == 3]['Latitude']\n",
    "plt.scatter(Longitude_3, Latitude_3, s=20, c='orange', label='Cluster 3')\n",
    "\n",
    "# Cụm 4\n",
    "Longitude_4 = PalletPerCustomerRef[PalletPerCustomerRef['Cluster'] == 4]['Longitude']\n",
    "Latitude_4 = PalletPerCustomerRef[PalletPerCustomerRef['Cluster'] == 4]['Latitude']\n",
    "plt.scatter(Longitude_4, Latitude_4, s=20, c='black', label='Cluster 4')\n",
    "# Đặt giới hạn cho trục x và y\n",
    "plt.xlim(CustomerMaster['Longitude'].min() - 3, CustomerMaster['Longitude'].max()+ 3) \n",
    "plt.ylim(CustomerMaster['Latitude'].min() - 6, CustomerMaster['Latitude'].max()+ 3) \n",
    "plt.scatter(restored_data[:, 1], restored_data[:, 0], s=sizeCluster, marker='*', color='purple')\n",
    "\n",
    "# Đặt tiêu đề và chú thích\n",
    "plt.title('Clusters of Customers')\n",
    "plt.xlabel('Longitude')\n",
    "plt.ylabel('Latitude')\n",
    "plt.legend()\n",
    "\n",
    "# Hiển thị biểu đồ chung\n",
    "plt.show()"
   ]
  },
  {
   "cell_type": "code",
   "execution_count": 36,
   "id": "69a25e19",
   "metadata": {},
   "outputs": [
    {
     "ename": "NameError",
     "evalue": "name 'PalletPerCustomerRef' is not defined",
     "output_type": "error",
     "traceback": [
      "\u001b[1;31m---------------------------------------------------------------------------\u001b[0m",
      "\u001b[1;31mNameError\u001b[0m                                 Traceback (most recent call last)",
      "\u001b[1;32m~\\AppData\\Local\\Temp\\ipykernel_7972\\403301518.py\u001b[0m in \u001b[0;36m<module>\u001b[1;34m\u001b[0m\n\u001b[1;32m----> 1\u001b[1;33m \u001b[0mcluster_0_and_2\u001b[0m \u001b[1;33m=\u001b[0m \u001b[0mPalletPerCustomerRef\u001b[0m\u001b[1;33m[\u001b[0m\u001b[1;33m(\u001b[0m\u001b[0mPalletPerCustomerRef\u001b[0m\u001b[1;33m[\u001b[0m\u001b[1;34m'Cluster'\u001b[0m\u001b[1;33m]\u001b[0m \u001b[1;33m==\u001b[0m \u001b[1;36m0\u001b[0m\u001b[1;33m)\u001b[0m \u001b[1;33m|\u001b[0m \u001b[1;33m(\u001b[0m\u001b[0mPalletPerCustomerRef\u001b[0m\u001b[1;33m[\u001b[0m\u001b[1;34m'Cluster'\u001b[0m\u001b[1;33m]\u001b[0m \u001b[1;33m==\u001b[0m \u001b[1;36m2\u001b[0m\u001b[1;33m)\u001b[0m\u001b[1;33m]\u001b[0m\u001b[1;33m\u001b[0m\u001b[1;33m\u001b[0m\u001b[0m\n\u001b[0m\u001b[0;32m      2\u001b[0m \u001b[0mcluster_1_and_4\u001b[0m \u001b[1;33m=\u001b[0m \u001b[0mPalletPerCustomerRef\u001b[0m\u001b[1;33m[\u001b[0m\u001b[1;33m(\u001b[0m\u001b[0mPalletPerCustomerRef\u001b[0m\u001b[1;33m[\u001b[0m\u001b[1;34m'Cluster'\u001b[0m\u001b[1;33m]\u001b[0m \u001b[1;33m==\u001b[0m \u001b[1;36m1\u001b[0m\u001b[1;33m)\u001b[0m \u001b[1;33m|\u001b[0m \u001b[1;33m(\u001b[0m\u001b[0mPalletPerCustomerRef\u001b[0m\u001b[1;33m[\u001b[0m\u001b[1;34m'Cluster'\u001b[0m\u001b[1;33m]\u001b[0m \u001b[1;33m==\u001b[0m \u001b[1;36m4\u001b[0m\u001b[1;33m)\u001b[0m\u001b[1;33m]\u001b[0m\u001b[1;33m\u001b[0m\u001b[1;33m\u001b[0m\u001b[0m\n",
      "\u001b[1;31mNameError\u001b[0m: name 'PalletPerCustomerRef' is not defined"
     ]
    }
   ],
   "source": [
    "cluster_0_and_2 = PalletPerCustomerRef[(PalletPerCustomerRef['Cluster'] == 0) | (PalletPerCustomerRef['Cluster'] == 2)]\n",
    "cluster_1_and_4 = PalletPerCustomerRef[(PalletPerCustomerRef['Cluster'] == 1) | (PalletPerCustomerRef['Cluster'] == 4)]"
   ]
  },
  {
   "cell_type": "markdown",
   "id": "92fea216",
   "metadata": {},
   "source": [
    "## Xác định vị trí đặt điểm để thu gom"
   ]
  },
  {
   "cell_type": "code",
   "execution_count": 37,
   "id": "90ef692c",
   "metadata": {},
   "outputs": [
    {
     "ename": "NameError",
     "evalue": "name 'cluster_0_and_2' is not defined",
     "output_type": "error",
     "traceback": [
      "\u001b[1;31m---------------------------------------------------------------------------\u001b[0m",
      "\u001b[1;31mNameError\u001b[0m                                 Traceback (most recent call last)",
      "\u001b[1;32m~\\AppData\\Local\\Temp\\ipykernel_7972\\806408744.py\u001b[0m in \u001b[0;36m<module>\u001b[1;34m\u001b[0m\n\u001b[0;32m      2\u001b[0m \u001b[0mcolumns_to_normalize\u001b[0m \u001b[1;33m=\u001b[0m \u001b[1;33m[\u001b[0m\u001b[1;34m'DistanceToDC'\u001b[0m\u001b[1;33m,\u001b[0m \u001b[1;34m'NumberOfPallet'\u001b[0m\u001b[1;33m]\u001b[0m\u001b[1;33m\u001b[0m\u001b[1;33m\u001b[0m\u001b[0m\n\u001b[0;32m      3\u001b[0m \u001b[0mscaler\u001b[0m \u001b[1;33m=\u001b[0m \u001b[0mMinMaxScaler\u001b[0m\u001b[1;33m(\u001b[0m\u001b[1;33m)\u001b[0m\u001b[1;33m\u001b[0m\u001b[1;33m\u001b[0m\u001b[0m\n\u001b[1;32m----> 4\u001b[1;33m \u001b[0mdf_normalized_cluster_0_and_2\u001b[0m \u001b[1;33m=\u001b[0m \u001b[0mcluster_0_and_2\u001b[0m\u001b[1;33m.\u001b[0m\u001b[0mcopy\u001b[0m\u001b[1;33m(\u001b[0m\u001b[1;33m)\u001b[0m\u001b[1;33m\u001b[0m\u001b[1;33m\u001b[0m\u001b[0m\n\u001b[0m\u001b[0;32m      5\u001b[0m \u001b[0mdf_normalized_cluster_0_and_2\u001b[0m\u001b[1;33m[\u001b[0m\u001b[0mcolumns_to_normalize\u001b[0m\u001b[1;33m]\u001b[0m \u001b[1;33m=\u001b[0m \u001b[0mscaler\u001b[0m\u001b[1;33m.\u001b[0m\u001b[0mfit_transform\u001b[0m\u001b[1;33m(\u001b[0m\u001b[0mcluster_0_and_2\u001b[0m\u001b[1;33m[\u001b[0m\u001b[0mcolumns_to_normalize\u001b[0m\u001b[1;33m]\u001b[0m\u001b[1;33m)\u001b[0m\u001b[1;33m\u001b[0m\u001b[1;33m\u001b[0m\u001b[0m\n\u001b[0;32m      6\u001b[0m \u001b[0mdf_normalized_cluster_1_and_4\u001b[0m \u001b[1;33m=\u001b[0m \u001b[0mcluster_1_and_4\u001b[0m\u001b[1;33m.\u001b[0m\u001b[0mcopy\u001b[0m\u001b[1;33m(\u001b[0m\u001b[1;33m)\u001b[0m\u001b[1;33m\u001b[0m\u001b[1;33m\u001b[0m\u001b[0m\n",
      "\u001b[1;31mNameError\u001b[0m: name 'cluster_0_and_2' is not defined"
     ]
    }
   ],
   "source": [
    "# Các cột xác định cần chuẩn hóa\n",
    "columns_to_normalize = ['DistanceToDC', 'NumberOfPallet']\n",
    "scaler = MinMaxScaler()\n",
    "df_normalized_cluster_0_and_2 = cluster_0_and_2.copy()\n",
    "df_normalized_cluster_0_and_2[columns_to_normalize] = scaler.fit_transform(cluster_0_and_2[columns_to_normalize])\n",
    "df_normalized_cluster_1_and_4 = cluster_1_and_4.copy()\n",
    "df_normalized_cluster_1_and_4[columns_to_normalize] = scaler.fit_transform(cluster_1_and_4[columns_to_normalize])\n",
    "# Dữ liệu vĩ độ và kinh độ\n",
    "Longitude = df_normalized_cluster_0_and_2['Longitude']\n",
    "Latitude = df_normalized_cluster_0_and_2['Latitude']\n",
    "NumberOfPallet = df_normalized_cluster_0_and_2['NumberOfPallet']\n",
    "DistanceToDC = df_normalized_cluster_0_and_2['DistanceToDC']\n",
    "# Ghép hai features thành một mảng 2D\n",
    "data = np.column_stack((Latitude, Longitude, NumberOfPallet, DistanceToDC))\n",
    "\n",
    "# Áp dụng KMeans với số lượng cụm mong muốn\n",
    "kmeans = KMeans(n_clusters=1)\n",
    "kmeans.fit(data)\n",
    "# Lấy giá trị trung tâm của từng cụm\n",
    "cluster_centers = kmeans.cluster_centers_\n",
    "longitude_cluster_0_and_2_center = cluster_centers[0 ,1]\n",
    "latitude_cluster_0_and_2_center = cluster_centers[0, 0]"
   ]
  },
  {
   "cell_type": "code",
   "execution_count": 38,
   "id": "5d4b4202",
   "metadata": {},
   "outputs": [
    {
     "ename": "NameError",
     "evalue": "name 'df_normalized_cluster_1_and_4' is not defined",
     "output_type": "error",
     "traceback": [
      "\u001b[1;31m---------------------------------------------------------------------------\u001b[0m",
      "\u001b[1;31mNameError\u001b[0m                                 Traceback (most recent call last)",
      "\u001b[1;32m~\\AppData\\Local\\Temp\\ipykernel_7972\\279109554.py\u001b[0m in \u001b[0;36m<module>\u001b[1;34m\u001b[0m\n\u001b[0;32m      1\u001b[0m \u001b[1;31m# Dữ liệu vĩ độ và kinh độ\u001b[0m\u001b[1;33m\u001b[0m\u001b[1;33m\u001b[0m\u001b[0m\n\u001b[1;32m----> 2\u001b[1;33m \u001b[0mLongitude\u001b[0m \u001b[1;33m=\u001b[0m \u001b[0mdf_normalized_cluster_1_and_4\u001b[0m\u001b[1;33m[\u001b[0m\u001b[1;34m'Longitude'\u001b[0m\u001b[1;33m]\u001b[0m\u001b[1;33m\u001b[0m\u001b[1;33m\u001b[0m\u001b[0m\n\u001b[0m\u001b[0;32m      3\u001b[0m \u001b[0mLatitude\u001b[0m \u001b[1;33m=\u001b[0m \u001b[0mdf_normalized_cluster_1_and_4\u001b[0m\u001b[1;33m[\u001b[0m\u001b[1;34m'Latitude'\u001b[0m\u001b[1;33m]\u001b[0m\u001b[1;33m\u001b[0m\u001b[1;33m\u001b[0m\u001b[0m\n\u001b[0;32m      4\u001b[0m \u001b[0mNumberOfPallet\u001b[0m \u001b[1;33m=\u001b[0m \u001b[0mdf_normalized_cluster_1_and_4\u001b[0m\u001b[1;33m[\u001b[0m\u001b[1;34m'NumberOfPallet'\u001b[0m\u001b[1;33m]\u001b[0m\u001b[1;33m\u001b[0m\u001b[1;33m\u001b[0m\u001b[0m\n\u001b[0;32m      5\u001b[0m \u001b[0mDistanceToDC\u001b[0m \u001b[1;33m=\u001b[0m \u001b[0mdf_normalized_cluster_1_and_4\u001b[0m\u001b[1;33m[\u001b[0m\u001b[1;34m'DistanceToDC'\u001b[0m\u001b[1;33m]\u001b[0m\u001b[1;33m\u001b[0m\u001b[1;33m\u001b[0m\u001b[0m\n",
      "\u001b[1;31mNameError\u001b[0m: name 'df_normalized_cluster_1_and_4' is not defined"
     ]
    }
   ],
   "source": [
    "# Dữ liệu vĩ độ và kinh độ\n",
    "Longitude = df_normalized_cluster_1_and_4['Longitude']\n",
    "Latitude = df_normalized_cluster_1_and_4['Latitude']\n",
    "NumberOfPallet = df_normalized_cluster_1_and_4['NumberOfPallet']\n",
    "DistanceToDC = df_normalized_cluster_1_and_4['DistanceToDC']\n",
    "# Ghép hai features thành một mảng 2D\n",
    "data = np.column_stack((Latitude, Longitude, NumberOfPallet, DistanceToDC))\n",
    "\n",
    "# Áp dụng KMeans với số lượng cụm mong muốn\n",
    "kmeans = KMeans(n_clusters=1)\n",
    "kmeans.fit(data)\n",
    "# Lấy giá trị trung tâm của từng cụm\n",
    "cluster_centers = kmeans.cluster_centers_\n",
    "longitude_cluster_1_and_4_center = cluster_centers[0 ,1]\n",
    "latitude_cluster_1_and_4_center = cluster_centers[0, 0]"
   ]
  },
  {
   "cell_type": "code",
   "execution_count": 39,
   "id": "b0ecb591",
   "metadata": {},
   "outputs": [
    {
     "ename": "NameError",
     "evalue": "name 'PalletPerCustomerRef' is not defined",
     "output_type": "error",
     "traceback": [
      "\u001b[1;31m---------------------------------------------------------------------------\u001b[0m",
      "\u001b[1;31mNameError\u001b[0m                                 Traceback (most recent call last)",
      "\u001b[1;32m~\\AppData\\Local\\Temp\\ipykernel_7972\\3198643071.py\u001b[0m in \u001b[0;36m<module>\u001b[1;34m\u001b[0m\n\u001b[0;32m      1\u001b[0m \u001b[1;31m# Cụm 1 và cụm 4\u001b[0m\u001b[1;33m\u001b[0m\u001b[1;33m\u001b[0m\u001b[0m\n\u001b[1;32m----> 2\u001b[1;33m \u001b[0mLongitude_0\u001b[0m \u001b[1;33m=\u001b[0m \u001b[0mPalletPerCustomerRef\u001b[0m\u001b[1;33m[\u001b[0m\u001b[1;33m(\u001b[0m\u001b[0mPalletPerCustomerRef\u001b[0m\u001b[1;33m[\u001b[0m\u001b[1;34m'Cluster'\u001b[0m\u001b[1;33m]\u001b[0m \u001b[1;33m==\u001b[0m \u001b[1;36m1\u001b[0m\u001b[1;33m)\u001b[0m \u001b[1;33m|\u001b[0m \u001b[1;33m(\u001b[0m\u001b[0mPalletPerCustomerRef\u001b[0m\u001b[1;33m[\u001b[0m\u001b[1;34m'Cluster'\u001b[0m\u001b[1;33m]\u001b[0m \u001b[1;33m==\u001b[0m \u001b[1;36m4\u001b[0m\u001b[1;33m)\u001b[0m\u001b[1;33m]\u001b[0m\u001b[1;33m[\u001b[0m\u001b[1;34m'Longitude'\u001b[0m\u001b[1;33m]\u001b[0m\u001b[1;33m\u001b[0m\u001b[1;33m\u001b[0m\u001b[0m\n\u001b[0m\u001b[0;32m      3\u001b[0m \u001b[0mLatitude_0\u001b[0m \u001b[1;33m=\u001b[0m \u001b[0mPalletPerCustomerRef\u001b[0m\u001b[1;33m[\u001b[0m\u001b[1;33m(\u001b[0m\u001b[0mPalletPerCustomerRef\u001b[0m\u001b[1;33m[\u001b[0m\u001b[1;34m'Cluster'\u001b[0m\u001b[1;33m]\u001b[0m \u001b[1;33m==\u001b[0m \u001b[1;36m1\u001b[0m\u001b[1;33m)\u001b[0m \u001b[1;33m|\u001b[0m \u001b[1;33m(\u001b[0m\u001b[0mPalletPerCustomerRef\u001b[0m\u001b[1;33m[\u001b[0m\u001b[1;34m'Cluster'\u001b[0m\u001b[1;33m]\u001b[0m \u001b[1;33m==\u001b[0m \u001b[1;36m4\u001b[0m\u001b[1;33m)\u001b[0m\u001b[1;33m]\u001b[0m\u001b[1;33m[\u001b[0m\u001b[1;34m'Latitude'\u001b[0m\u001b[1;33m]\u001b[0m\u001b[1;33m\u001b[0m\u001b[1;33m\u001b[0m\u001b[0m\n\u001b[0;32m      4\u001b[0m \u001b[0mplt\u001b[0m\u001b[1;33m.\u001b[0m\u001b[0mscatter\u001b[0m\u001b[1;33m(\u001b[0m\u001b[0mLongitude_0\u001b[0m\u001b[1;33m,\u001b[0m \u001b[0mLatitude_0\u001b[0m\u001b[1;33m,\u001b[0m \u001b[0ms\u001b[0m\u001b[1;33m=\u001b[0m\u001b[1;36m20\u001b[0m\u001b[1;33m,\u001b[0m \u001b[0mc\u001b[0m\u001b[1;33m=\u001b[0m\u001b[1;34m'blue'\u001b[0m\u001b[1;33m,\u001b[0m \u001b[0mlabel\u001b[0m\u001b[1;33m=\u001b[0m\u001b[1;34m'Cluster 0'\u001b[0m\u001b[1;33m)\u001b[0m\u001b[1;33m\u001b[0m\u001b[1;33m\u001b[0m\u001b[0m\n\u001b[0;32m      5\u001b[0m \u001b[1;33m\u001b[0m\u001b[0m\n",
      "\u001b[1;31mNameError\u001b[0m: name 'PalletPerCustomerRef' is not defined"
     ]
    }
   ],
   "source": [
    "# Cụm 1 và cụm 4\n",
    "Longitude_0 = PalletPerCustomerRef[(PalletPerCustomerRef['Cluster'] == 1) | (PalletPerCustomerRef['Cluster'] == 4)]['Longitude']\n",
    "Latitude_0 = PalletPerCustomerRef[(PalletPerCustomerRef['Cluster'] == 1) | (PalletPerCustomerRef['Cluster'] == 4)]['Latitude']\n",
    "plt.scatter(Longitude_0, Latitude_0, s=20, c='blue', label='Cluster 0')\n",
    "\n",
    "# Cụm 0 và cụm 2\n",
    "Longitude_1 = PalletPerCustomerRef[(PalletPerCustomerRef['Cluster'] == 0) | (PalletPerCustomerRef['Cluster'] == 2)]['Longitude']\n",
    "Latitude_1 = PalletPerCustomerRef[(PalletPerCustomerRef['Cluster'] == 0) | (PalletPerCustomerRef['Cluster'] == 2)]['Latitude']\n",
    "plt.scatter(Longitude_1, Latitude_1, s=20, c='red', label='Cluster 1')\n",
    "\n",
    "# Cụm 3\n",
    "Longitude_3 = PalletPerCustomerRef[PalletPerCustomerRef['Cluster'] == 3]['Longitude']\n",
    "Latitude_3 = PalletPerCustomerRef[PalletPerCustomerRef['Cluster'] == 3]['Latitude']\n",
    "plt.scatter(Longitude_3, Latitude_3, s=20, c='orange', label='Cluster 2')\n",
    "\n",
    "# Đặt giới hạn cho trục x và y\n",
    "plt.xlim(CustomerMaster['Longitude'].min() - 3, CustomerMaster['Longitude'].max() + 3)\n",
    "plt.ylim(CustomerMaster['Latitude'].min() - 6, CustomerMaster['Latitude'].max() + 3)\n",
    "\n",
    "# Plot cluster centers\n",
    "plt.scatter(longitude_cluster_1_and_4_center, latitude_cluster_1_and_4_center, s=30, marker='*', color='purple')\n",
    "plt.scatter(longitude_cluster_0_and_2_center, latitude_cluster_0_and_2_center, s=70, marker='*', color='purple')\n",
    "plt.scatter(DC_Longitude, DC_Latitude, s=1340, marker='*', color='purple')\n",
    "plt.scatter(DC_Longitude, DC_Latitude, s = 100, marker = '^', color = 'red')\n",
    "# Đặt tiêu đề và chú thích\n",
    "plt.title('Clusters of Customers')\n",
    "plt.xlabel('Longitude')\n",
    "plt.ylabel('Latitude')\n",
    "plt.legend()\n",
    "# Hiển thị biểu đồ chung\n",
    "plt.show()"
   ]
  },
  {
   "cell_type": "markdown",
   "id": "4580ca76",
   "metadata": {},
   "source": [
    "## Xác định size từng cụm để tổng chi phí hằng năm và overflow là thấp nhất"
   ]
  },
  {
   "cell_type": "code",
   "execution_count": 40,
   "id": "a34584b6",
   "metadata": {},
   "outputs": [
    {
     "ename": "NameError",
     "evalue": "name 'dfCapacityGrouped' is not defined",
     "output_type": "error",
     "traceback": [
      "\u001b[1;31m---------------------------------------------------------------------------\u001b[0m",
      "\u001b[1;31mNameError\u001b[0m                                 Traceback (most recent call last)",
      "\u001b[1;32m~\\AppData\\Local\\Temp\\ipykernel_7972\\2531480068.py\u001b[0m in \u001b[0;36m<module>\u001b[1;34m\u001b[0m\n\u001b[0;32m      1\u001b[0m \u001b[0mcluster_again\u001b[0m \u001b[1;33m=\u001b[0m \u001b[1;33m{\u001b[0m\u001b[1;33m}\u001b[0m\u001b[1;33m\u001b[0m\u001b[1;33m\u001b[0m\u001b[0m\n\u001b[1;32m----> 2\u001b[1;33m \u001b[0mcluster_again\u001b[0m\u001b[1;33m[\u001b[0m\u001b[1;36m0\u001b[0m\u001b[1;33m]\u001b[0m \u001b[1;33m=\u001b[0m \u001b[0mpd\u001b[0m\u001b[1;33m.\u001b[0m\u001b[0mconcat\u001b[0m\u001b[1;33m(\u001b[0m\u001b[1;33m[\u001b[0m\u001b[0mdfCapacityGrouped\u001b[0m\u001b[1;33m[\u001b[0m\u001b[0mdfCapacityGrouped\u001b[0m\u001b[1;33m[\u001b[0m\u001b[1;34m'Cluster'\u001b[0m\u001b[1;33m]\u001b[0m \u001b[1;33m==\u001b[0m \u001b[1;36m0\u001b[0m\u001b[1;33m]\u001b[0m\u001b[1;33m,\u001b[0m \u001b[0mdfCapacityGrouped\u001b[0m\u001b[1;33m[\u001b[0m\u001b[0mdfCapacityGrouped\u001b[0m\u001b[1;33m[\u001b[0m\u001b[1;34m'Cluster'\u001b[0m\u001b[1;33m]\u001b[0m \u001b[1;33m==\u001b[0m \u001b[1;36m2\u001b[0m\u001b[1;33m]\u001b[0m\u001b[1;33m]\u001b[0m\u001b[1;33m)\u001b[0m\u001b[1;33m\u001b[0m\u001b[1;33m\u001b[0m\u001b[0m\n\u001b[0m\u001b[0;32m      3\u001b[0m \u001b[0mcluster_again\u001b[0m\u001b[1;33m[\u001b[0m\u001b[1;36m1\u001b[0m\u001b[1;33m]\u001b[0m \u001b[1;33m=\u001b[0m \u001b[0mpd\u001b[0m\u001b[1;33m.\u001b[0m\u001b[0mconcat\u001b[0m\u001b[1;33m(\u001b[0m\u001b[1;33m[\u001b[0m\u001b[0mdfCapacityGrouped\u001b[0m\u001b[1;33m[\u001b[0m\u001b[0mdfCapacityGrouped\u001b[0m\u001b[1;33m[\u001b[0m\u001b[1;34m'Cluster'\u001b[0m\u001b[1;33m]\u001b[0m \u001b[1;33m==\u001b[0m \u001b[1;36m1\u001b[0m\u001b[1;33m]\u001b[0m\u001b[1;33m,\u001b[0m \u001b[0mdfCapacityGrouped\u001b[0m\u001b[1;33m[\u001b[0m\u001b[0mdfCapacityGrouped\u001b[0m\u001b[1;33m[\u001b[0m\u001b[1;34m'Cluster'\u001b[0m\u001b[1;33m]\u001b[0m \u001b[1;33m==\u001b[0m \u001b[1;36m4\u001b[0m\u001b[1;33m]\u001b[0m\u001b[1;33m]\u001b[0m\u001b[1;33m)\u001b[0m\u001b[1;33m\u001b[0m\u001b[1;33m\u001b[0m\u001b[0m\n\u001b[0;32m      4\u001b[0m \u001b[0mcluster_again\u001b[0m\u001b[1;33m[\u001b[0m\u001b[1;36m2\u001b[0m\u001b[1;33m]\u001b[0m \u001b[1;33m=\u001b[0m \u001b[0mdfCapacityGrouped\u001b[0m\u001b[1;33m[\u001b[0m\u001b[0mdfCapacityGrouped\u001b[0m\u001b[1;33m[\u001b[0m\u001b[1;34m'Cluster'\u001b[0m\u001b[1;33m]\u001b[0m \u001b[1;33m==\u001b[0m \u001b[1;36m3\u001b[0m\u001b[1;33m]\u001b[0m\u001b[1;33m\u001b[0m\u001b[1;33m\u001b[0m\u001b[0m\n\u001b[0;32m      5\u001b[0m \u001b[0mcluster_again\u001b[0m\u001b[1;33m[\u001b[0m\u001b[1;36m0\u001b[0m\u001b[1;33m]\u001b[0m \u001b[1;33m=\u001b[0m \u001b[0mcluster_again\u001b[0m\u001b[1;33m[\u001b[0m\u001b[1;36m0\u001b[0m\u001b[1;33m]\u001b[0m\u001b[1;33m.\u001b[0m\u001b[0mreset_index\u001b[0m\u001b[1;33m(\u001b[0m\u001b[1;33m)\u001b[0m\u001b[1;33m\u001b[0m\u001b[1;33m\u001b[0m\u001b[0m\n",
      "\u001b[1;31mNameError\u001b[0m: name 'dfCapacityGrouped' is not defined"
     ]
    }
   ],
   "source": [
    "cluster_again = {}\n",
    "cluster_again[0] = pd.concat([dfCapacityGrouped[dfCapacityGrouped['Cluster'] == 0], dfCapacityGrouped[dfCapacityGrouped['Cluster'] == 2]])\n",
    "cluster_again[1] = pd.concat([dfCapacityGrouped[dfCapacityGrouped['Cluster'] == 1], dfCapacityGrouped[dfCapacityGrouped['Cluster'] == 4]])\n",
    "cluster_again[2] = dfCapacityGrouped[dfCapacityGrouped['Cluster'] == 3]\n",
    "cluster_again[0] = cluster_again[0].reset_index()\n",
    "cluster_again[1] = cluster_again[1].reset_index()\n",
    "cluster_again[2] = cluster_again[2].reset_index()\n",
    "cluster_again[2].head()"
   ]
  },
  {
   "cell_type": "code",
   "execution_count": 41,
   "id": "acce6e12",
   "metadata": {},
   "outputs": [
    {
     "ename": "KeyError",
     "evalue": "0",
     "output_type": "error",
     "traceback": [
      "\u001b[1;31m---------------------------------------------------------------------------\u001b[0m",
      "\u001b[1;31mKeyError\u001b[0m                                  Traceback (most recent call last)",
      "\u001b[1;32m~\\AppData\\Local\\Temp\\ipykernel_7972\\3352973572.py\u001b[0m in \u001b[0;36m<module>\u001b[1;34m\u001b[0m\n\u001b[0;32m      5\u001b[0m     \u001b[0msizeList\u001b[0m \u001b[1;33m=\u001b[0m \u001b[0mlist\u001b[0m\u001b[1;33m(\u001b[0m\u001b[0mrange\u001b[0m\u001b[1;33m(\u001b[0m\u001b[1;36m40\u001b[0m\u001b[1;33m,\u001b[0m \u001b[1;36m120\u001b[0m\u001b[1;33m,\u001b[0m \u001b[1;36m10\u001b[0m\u001b[1;33m)\u001b[0m\u001b[1;33m)\u001b[0m\u001b[1;33m\u001b[0m\u001b[1;33m\u001b[0m\u001b[0m\n\u001b[0;32m      6\u001b[0m     \u001b[1;32mfor\u001b[0m \u001b[0msize\u001b[0m \u001b[1;32min\u001b[0m \u001b[0msizeList\u001b[0m\u001b[1;33m:\u001b[0m\u001b[1;33m\u001b[0m\u001b[1;33m\u001b[0m\u001b[0m\n\u001b[1;32m----> 7\u001b[1;33m         \u001b[0mcostList\u001b[0m\u001b[1;33m.\u001b[0m\u001b[0mappend\u001b[0m\u001b[1;33m(\u001b[0m\u001b[0mtotalCost\u001b[0m\u001b[1;33m(\u001b[0m\u001b[0mcluster_again\u001b[0m\u001b[1;33m[\u001b[0m\u001b[0mcluster\u001b[0m\u001b[1;33m]\u001b[0m\u001b[1;33m,\u001b[0m \u001b[0msize\u001b[0m\u001b[1;33m)\u001b[0m\u001b[1;33m)\u001b[0m\u001b[1;33m\u001b[0m\u001b[1;33m\u001b[0m\u001b[0m\n\u001b[0m\u001b[0;32m      8\u001b[0m     \u001b[0msizeClusterAgain\u001b[0m\u001b[1;33m.\u001b[0m\u001b[0mappend\u001b[0m\u001b[1;33m(\u001b[0m\u001b[0msizeList\u001b[0m\u001b[1;33m[\u001b[0m\u001b[0mcostList\u001b[0m\u001b[1;33m.\u001b[0m\u001b[0mindex\u001b[0m\u001b[1;33m(\u001b[0m\u001b[0mmin\u001b[0m\u001b[1;33m(\u001b[0m\u001b[0mcostList\u001b[0m\u001b[1;33m)\u001b[0m\u001b[1;33m)\u001b[0m\u001b[1;33m]\u001b[0m\u001b[1;33m)\u001b[0m\u001b[1;33m\u001b[0m\u001b[1;33m\u001b[0m\u001b[0m\n\u001b[0;32m      9\u001b[0m \u001b[0msizeClusterAgain\u001b[0m\u001b[1;33m.\u001b[0m\u001b[0mappend\u001b[0m\u001b[1;33m(\u001b[0m\u001b[1;36m1330\u001b[0m\u001b[1;33m)\u001b[0m\u001b[1;33m\u001b[0m\u001b[1;33m\u001b[0m\u001b[0m\n",
      "\u001b[1;31mKeyError\u001b[0m: 0"
     ]
    }
   ],
   "source": [
    "sizeClusterAgain = []\n",
    "\n",
    "for cluster in range(2):\n",
    "    costList = []\n",
    "    sizeList = list(range(40, 120, 10))\n",
    "    for size in sizeList:\n",
    "        costList.append(totalCost(cluster_again[cluster], size))\n",
    "    sizeClusterAgain.append(sizeList[costList.index(min(costList))])\n",
    "sizeClusterAgain.append(1330)"
   ]
  },
  {
   "cell_type": "code",
   "execution_count": 42,
   "id": "5e79fb97",
   "metadata": {},
   "outputs": [
    {
     "name": "stdout",
     "output_type": "stream",
     "text": [
      "Total cost: \n"
     ]
    },
    {
     "ename": "KeyError",
     "evalue": "0",
     "output_type": "error",
     "traceback": [
      "\u001b[1;31m---------------------------------------------------------------------------\u001b[0m",
      "\u001b[1;31mKeyError\u001b[0m                                  Traceback (most recent call last)",
      "\u001b[1;32m~\\AppData\\Local\\Temp\\ipykernel_7972\\2021006612.py\u001b[0m in \u001b[0;36m<module>\u001b[1;34m\u001b[0m\n\u001b[0;32m      1\u001b[0m \u001b[0mprint\u001b[0m\u001b[1;33m(\u001b[0m\u001b[1;34m\"Total cost: \"\u001b[0m\u001b[1;33m)\u001b[0m\u001b[1;33m\u001b[0m\u001b[1;33m\u001b[0m\u001b[0m\n\u001b[1;32m----> 2\u001b[1;33m \u001b[0mprint\u001b[0m\u001b[1;33m(\u001b[0m\u001b[1;34m\"Cluster 0:\"\u001b[0m\u001b[1;33m,\u001b[0m \u001b[0mtotalCost\u001b[0m\u001b[1;33m(\u001b[0m\u001b[0mcluster_again\u001b[0m\u001b[1;33m[\u001b[0m\u001b[1;36m0\u001b[0m\u001b[1;33m]\u001b[0m\u001b[1;33m,\u001b[0m \u001b[1;36m70\u001b[0m\u001b[1;33m)\u001b[0m\u001b[1;33m)\u001b[0m\u001b[1;33m\u001b[0m\u001b[1;33m\u001b[0m\u001b[0m\n\u001b[0m\u001b[0;32m      3\u001b[0m \u001b[0mprint\u001b[0m\u001b[1;33m(\u001b[0m\u001b[1;34m\"Cluster 1:\"\u001b[0m\u001b[1;33m,\u001b[0m \u001b[0mtotalCost\u001b[0m\u001b[1;33m(\u001b[0m\u001b[0mcluster_again\u001b[0m\u001b[1;33m[\u001b[0m\u001b[1;36m1\u001b[0m\u001b[1;33m]\u001b[0m\u001b[1;33m,\u001b[0m \u001b[1;36m70\u001b[0m\u001b[1;33m)\u001b[0m\u001b[1;33m)\u001b[0m\u001b[1;33m\u001b[0m\u001b[1;33m\u001b[0m\u001b[0m\n\u001b[0;32m      4\u001b[0m \u001b[0mprint\u001b[0m\u001b[1;33m(\u001b[0m\u001b[1;34m\"Cluster 2:\"\u001b[0m\u001b[1;33m,\u001b[0m \u001b[0mtotalCost\u001b[0m\u001b[1;33m(\u001b[0m\u001b[0mcluster_again\u001b[0m\u001b[1;33m[\u001b[0m\u001b[1;36m2\u001b[0m\u001b[1;33m]\u001b[0m\u001b[1;33m,\u001b[0m \u001b[1;36m1340\u001b[0m\u001b[1;33m)\u001b[0m\u001b[1;33m)\u001b[0m\u001b[1;33m\u001b[0m\u001b[1;33m\u001b[0m\u001b[0m\n\u001b[0;32m      5\u001b[0m \u001b[0mprint\u001b[0m\u001b[1;33m(\u001b[0m\u001b[1;34m\"Total:\"\u001b[0m\u001b[1;33m,\u001b[0m \u001b[0mtotalCost\u001b[0m\u001b[1;33m(\u001b[0m\u001b[0mcluster_again\u001b[0m\u001b[1;33m[\u001b[0m\u001b[1;36m0\u001b[0m\u001b[1;33m]\u001b[0m\u001b[1;33m,\u001b[0m \u001b[1;36m70\u001b[0m\u001b[1;33m)\u001b[0m \u001b[1;33m+\u001b[0m \u001b[0mtotalCost\u001b[0m\u001b[1;33m(\u001b[0m\u001b[0mcluster_again\u001b[0m\u001b[1;33m[\u001b[0m\u001b[1;36m1\u001b[0m\u001b[1;33m]\u001b[0m\u001b[1;33m,\u001b[0m \u001b[1;36m70\u001b[0m\u001b[1;33m)\u001b[0m \u001b[1;33m+\u001b[0m \u001b[0mtotalCost\u001b[0m\u001b[1;33m(\u001b[0m\u001b[0mcluster_again\u001b[0m\u001b[1;33m[\u001b[0m\u001b[1;36m2\u001b[0m\u001b[1;33m]\u001b[0m\u001b[1;33m,\u001b[0m \u001b[1;36m1340\u001b[0m\u001b[1;33m)\u001b[0m\u001b[1;33m)\u001b[0m\u001b[1;33m\u001b[0m\u001b[1;33m\u001b[0m\u001b[0m\n",
      "\u001b[1;31mKeyError\u001b[0m: 0"
     ]
    }
   ],
   "source": [
    "print(\"Total cost: \")\n",
    "print(\"Cluster 0:\", totalCost(cluster_again[0], 70))\n",
    "print(\"Cluster 1:\", totalCost(cluster_again[1], 70))\n",
    "print(\"Cluster 2:\", totalCost(cluster_again[2], 1340))\n",
    "print(\"Total:\", totalCost(cluster_again[0], 70) + totalCost(cluster_again[1], 70) + totalCost(cluster_again[2], 1340))"
   ]
  },
  {
   "cell_type": "markdown",
   "id": "2448ba1d",
   "metadata": {},
   "source": [
    "Giảm được khoảng 13000$ so với phương án ban đầu"
   ]
  },
  {
   "cell_type": "markdown",
   "id": "5c56a3cb",
   "metadata": {},
   "source": [
    "Lượng GHG gây ra từ số lượng sản phẩm bán được nên các cách phân cụm khác nhau không gây ảnh hưởng đến lượng khí thải nhà kính. \n",
    "\n",
    "--> lượng khí thải nhà kính trong trường hợp này bằng với trường hợp trước"
   ]
  },
  {
   "cell_type": "code",
   "execution_count": 43,
   "id": "11057b7a",
   "metadata": {},
   "outputs": [
    {
     "ename": "NameError",
     "evalue": "name 'CO2' is not defined",
     "output_type": "error",
     "traceback": [
      "\u001b[1;31m---------------------------------------------------------------------------\u001b[0m",
      "\u001b[1;31mNameError\u001b[0m                                 Traceback (most recent call last)",
      "\u001b[1;32m~\\AppData\\Local\\Temp\\ipykernel_7972\\799960991.py\u001b[0m in \u001b[0;36m<module>\u001b[1;34m\u001b[0m\n\u001b[1;32m----> 1\u001b[1;33m \u001b[0mprint\u001b[0m\u001b[1;33m(\u001b[0m\u001b[1;34m\"GHG saved: \"\u001b[0m\u001b[1;33m,\u001b[0m \u001b[0mCO2\u001b[0m \u001b[1;33m-\u001b[0m \u001b[0mtotal_CO2\u001b[0m\u001b[1;33m[\u001b[0m\u001b[1;36m100\u001b[0m\u001b[1;33m]\u001b[0m\u001b[1;33m,\u001b[0m \u001b[1;34m\" (CO2-eq)\"\u001b[0m\u001b[1;33m)\u001b[0m\u001b[1;33m\u001b[0m\u001b[1;33m\u001b[0m\u001b[0m\n\u001b[0m\u001b[0;32m      2\u001b[0m \u001b[0mprint\u001b[0m\u001b[1;33m(\u001b[0m\u001b[1;34m\"Total CO2: \"\u001b[0m\u001b[1;33m,\u001b[0m \u001b[0mtotal_CO2\u001b[0m\u001b[1;33m[\u001b[0m\u001b[1;36m100\u001b[0m\u001b[1;33m]\u001b[0m\u001b[1;33m,\u001b[0m \u001b[1;34m\" (CO2-eq)\"\u001b[0m\u001b[1;33m)\u001b[0m\u001b[1;33m\u001b[0m\u001b[1;33m\u001b[0m\u001b[0m\n\u001b[0;32m      3\u001b[0m \u001b[0mprint\u001b[0m\u001b[1;33m(\u001b[0m\u001b[1;34m\"Total CTN recycled: \"\u001b[0m\u001b[1;33m,\u001b[0m \u001b[0mdfPackageGrouped\u001b[0m\u001b[1;33m.\u001b[0m\u001b[0miloc\u001b[0m\u001b[1;33m[\u001b[0m\u001b[1;36m0\u001b[0m\u001b[1;33m,\u001b[0m \u001b[1;36m2\u001b[0m\u001b[1;33m]\u001b[0m\u001b[1;33m,\u001b[0m \u001b[1;34m\" (kg)\"\u001b[0m\u001b[1;33m)\u001b[0m\u001b[1;33m\u001b[0m\u001b[1;33m\u001b[0m\u001b[0m\n\u001b[0;32m      4\u001b[0m \u001b[0mprint\u001b[0m\u001b[1;33m(\u001b[0m\u001b[1;34m\"Total GBOT recycled: \"\u001b[0m\u001b[1;33m,\u001b[0m \u001b[0mdfPackageGrouped\u001b[0m\u001b[1;33m.\u001b[0m\u001b[0miloc\u001b[0m\u001b[1;33m[\u001b[0m\u001b[1;36m1\u001b[0m\u001b[1;33m,\u001b[0m \u001b[1;36m2\u001b[0m\u001b[1;33m]\u001b[0m\u001b[1;33m,\u001b[0m \u001b[1;34m\" (kg)\"\u001b[0m\u001b[1;33m)\u001b[0m\u001b[1;33m\u001b[0m\u001b[1;33m\u001b[0m\u001b[0m\n\u001b[0;32m      5\u001b[0m \u001b[0mprint\u001b[0m\u001b[1;33m(\u001b[0m\u001b[1;34m\"Total PBOT recycled: \"\u001b[0m\u001b[1;33m,\u001b[0m \u001b[0mdfPackageGrouped\u001b[0m\u001b[1;33m.\u001b[0m\u001b[0miloc\u001b[0m\u001b[1;33m[\u001b[0m\u001b[1;36m2\u001b[0m\u001b[1;33m,\u001b[0m \u001b[1;36m2\u001b[0m\u001b[1;33m]\u001b[0m\u001b[1;33m,\u001b[0m \u001b[1;34m\" (kg)\"\u001b[0m\u001b[1;33m)\u001b[0m\u001b[1;33m\u001b[0m\u001b[1;33m\u001b[0m\u001b[0m\n",
      "\u001b[1;31mNameError\u001b[0m: name 'CO2' is not defined"
     ]
    }
   ],
   "source": [
    "print(\"GHG saved: \", CO2 - total_CO2[100], \" (CO2-eq)\")\n",
    "print(\"Total CO2: \", total_CO2[100], \" (CO2-eq)\")\n",
    "print(\"Total CTN recycled: \", dfPackageGrouped.iloc[0, 2], \" (kg)\")\n",
    "print(\"Total GBOT recycled: \", dfPackageGrouped.iloc[1, 2], \" (kg)\")\n",
    "print(\"Total PBOT recycled: \", dfPackageGrouped.iloc[2, 2], \" (kg)\")"
   ]
  },
  {
   "cell_type": "code",
   "execution_count": 44,
   "id": "3625b6e1",
   "metadata": {},
   "outputs": [
    {
     "name": "stdout",
     "output_type": "stream",
     "text": [
      "Features:\n",
      "1. Latitude\n",
      "2. Longitude\n",
      "3. Number of pallet\n",
      "4. Distance to Distribution Center\n"
     ]
    }
   ],
   "source": [
    "print(\"Features:\")\n",
    "print(\"1. Latitude\")\n",
    "print(\"2. Longitude\")\n",
    "print(\"3. Number of pallet\")\n",
    "print('4. Distance to Distribution Center')"
   ]
  }
 ],
 "metadata": {
  "kernelspec": {
   "display_name": "Python 3 (ipykernel)",
   "language": "python",
   "name": "python3"
  },
  "language_info": {
   "codemirror_mode": {
    "name": "ipython",
    "version": 3
   },
   "file_extension": ".py",
   "mimetype": "text/x-python",
   "name": "python",
   "nbconvert_exporter": "python",
   "pygments_lexer": "ipython3",
   "version": "3.9.13"
  }
 },
 "nbformat": 4,
 "nbformat_minor": 5
}
